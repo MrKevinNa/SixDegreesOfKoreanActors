{
 "cells": [
  {
   "cell_type": "markdown",
   "metadata": {
    "slideshow": {
     "slide_type": "slide"
    }
   },
   "source": [
    "# 한국판 케빈 베이컨 놀이\n",
    "$$ $$\n",
    "> 케빈 베이컨의 여섯 다리(영어: Six Degrees of Kevin Bacon)는 어떤 배우와 케빈 베이컨까지 최단의 연결 고리를 만드는 놀이이다.  \n",
    "이는 케빈 케이컨이 매우 다작(多作)하는 배우라는 것이 근거가 된다.\n",
    "* 출처: [[위키백과] 케빈 베이컨의 여섯 다리](https://ko.wikipedia.org/wiki/%EC%BC%80%EB%B9%88_%EB%B2%A0%EC%9D%B4%EC%BB%A8%EC%9D%98_%EC%97%AC%EC%84%AF_%EB%8B%A4%EB%A6%AC)\n",
    "\n",
    "$$ $$\n",
    "> 한국영화에 출연한 한국 영화배우들을 대상으로 \"케빈 베이컨 놀이\"를 직접 해보았습니다.  \n",
    "* 기준일자: 2017년 11월 23일"
   ]
  },
  {
   "cell_type": "code",
   "execution_count": 1,
   "metadata": {
    "slideshow": {
     "slide_type": "skip"
    }
   },
   "outputs": [],
   "source": [
    "# 경고문구를 출력하지 않도록 설정\n",
    "options(warn = -1)"
   ]
  },
  {
   "cell_type": "code",
   "execution_count": 2,
   "metadata": {
    "slideshow": {
     "slide_type": "slide"
    }
   },
   "outputs": [
    {
     "name": "stderr",
     "output_type": "stream",
     "text": [
      "\n",
      "Attaching package: ‘igraph’\n",
      "\n",
      "The following objects are masked from ‘package:stats’:\n",
      "\n",
      "    decompose, spectrum\n",
      "\n",
      "The following object is masked from ‘package:base’:\n",
      "\n",
      "    union\n",
      "\n",
      "network: Classes for Relational Data\n",
      "Version 1.13.0 created on 2015-08-31.\n",
      "copyright (c) 2005, Carter T. Butts, University of California-Irvine\n",
      "                    Mark S. Handcock, University of California -- Los Angeles\n",
      "                    David R. Hunter, Penn State University\n",
      "                    Martina Morris, University of Washington\n",
      "                    Skye Bender-deMoll, University of Washington\n",
      " For citation information, type citation(\"network\").\n",
      " Type help(\"network-package\") to get started.\n",
      "\n",
      "\n",
      "Attaching package: ‘network’\n",
      "\n",
      "The following objects are masked from ‘package:igraph’:\n",
      "\n",
      "    %c%, %s%, add.edges, add.vertices, delete.edges, delete.vertices,\n",
      "    get.edge.attribute, get.edges, get.vertex.attribute, is.bipartite,\n",
      "    is.directed, list.edge.attributes, list.vertex.attributes,\n",
      "    set.edge.attribute, set.vertex.attribute\n",
      "\n",
      "Loading required package: statnet.common\n",
      "\n",
      "Attaching package: ‘statnet.common’\n",
      "\n",
      "The following object is masked from ‘package:base’:\n",
      "\n",
      "    order\n",
      "\n",
      "sna: Tools for Social Network Analysis\n",
      "Version 2.4 created on 2016-07-23.\n",
      "copyright (c) 2005, Carter T. Butts, University of California-Irvine\n",
      " For citation information, type citation(\"sna\").\n",
      " Type help(package=\"sna\") to get started.\n",
      "\n",
      "\n",
      "Attaching package: ‘sna’\n",
      "\n",
      "The following objects are masked from ‘package:igraph’:\n",
      "\n",
      "    betweenness, bonpow, closeness, components, degree, dyad.census,\n",
      "    evcent, hierarchy, is.connected, neighborhood, triad.census\n",
      "\n",
      "Loading required package: lattice\n",
      "Loading required package: survival\n",
      "Loading required package: Formula\n",
      "\n",
      "Attaching package: ‘Hmisc’\n",
      "\n",
      "The following object is masked from ‘package:network’:\n",
      "\n",
      "    is.discrete\n",
      "\n",
      "The following objects are masked from ‘package:base’:\n",
      "\n",
      "    format.pval, round.POSIXt, trunc.POSIXt, units\n",
      "\n"
     ]
    }
   ],
   "source": [
    "# 라이브러리 불러오기\n",
    "library(readxl)\n",
    "library(reshape2)\n",
    "library(igraph)\n",
    "library(network)\n",
    "library(sna)\n",
    "library(ggplot2)\n",
    "library(GGally)\n",
    "library(scales)\n",
    "library(Hmisc)"
   ]
  },
  {
   "cell_type": "code",
   "execution_count": 3,
   "metadata": {
    "slideshow": {
     "slide_type": "skip"
    }
   },
   "outputs": [
    {
     "data": {
      "text/html": [
       "'/Users/drkevin/Documents/GitHub/DrKevin22/SixDegreeKorVer'"
      ],
      "text/latex": [
       "'/Users/drkevin/Documents/GitHub/DrKevin22/SixDegreeKorVer'"
      ],
      "text/markdown": [
       "'/Users/drkevin/Documents/GitHub/DrKevin22/SixDegreeKorVer'"
      ],
      "text/plain": [
       "[1] \"/Users/drkevin/Documents/GitHub/DrKevin22/SixDegreeKorVer\""
      ]
     },
     "metadata": {},
     "output_type": "display_data"
    }
   ],
   "source": [
    "# 작업폴더 경로 확인 \n",
    "getwd()\n",
    "\n",
    "# 데이터가 저장된 폴더로 작업폴더 변경\n",
    "setwd(\"./data\")"
   ]
  },
  {
   "cell_type": "code",
   "execution_count": 4,
   "metadata": {
    "slideshow": {
     "slide_type": "slide"
    }
   },
   "outputs": [
    {
     "data": {
      "text/html": [
       "<ol class=list-inline>\n",
       "\t<li>'Korean movie actors_20170714.xlsx'</li>\n",
       "\t<li>'Korean movie actors_20171123.xlsx'</li>\n",
       "\t<li>'Korean movie year_20170714.xlsx'</li>\n",
       "\t<li>'Korean movie year_20171123.xlsx'</li>\n",
       "\t<li>'Korean movie_20170714.xlsx'</li>\n",
       "\t<li>'Korean movie_20171123.xlsx'</li>\n",
       "</ol>\n"
      ],
      "text/latex": [
       "\\begin{enumerate*}\n",
       "\\item 'Korean movie actors\\_20170714.xlsx'\n",
       "\\item 'Korean movie actors\\_20171123.xlsx'\n",
       "\\item 'Korean movie year\\_20170714.xlsx'\n",
       "\\item 'Korean movie year\\_20171123.xlsx'\n",
       "\\item 'Korean movie\\_20170714.xlsx'\n",
       "\\item 'Korean movie\\_20171123.xlsx'\n",
       "\\end{enumerate*}\n"
      ],
      "text/markdown": [
       "1. 'Korean movie actors_20170714.xlsx'\n",
       "2. 'Korean movie actors_20171123.xlsx'\n",
       "3. 'Korean movie year_20170714.xlsx'\n",
       "4. 'Korean movie year_20171123.xlsx'\n",
       "5. 'Korean movie_20170714.xlsx'\n",
       "6. 'Korean movie_20171123.xlsx'\n",
       "\n",
       "\n"
      ],
      "text/plain": [
       "[1] \"Korean movie actors_20170714.xlsx\" \"Korean movie actors_20171123.xlsx\"\n",
       "[3] \"Korean movie year_20170714.xlsx\"   \"Korean movie year_20171123.xlsx\"  \n",
       "[5] \"Korean movie_20170714.xlsx\"        \"Korean movie_20171123.xlsx\"       "
      ]
     },
     "metadata": {},
     "output_type": "display_data"
    }
   ],
   "source": [
    "# 작업폴더 내 저장된 xlsx 파일 확인\n",
    "list.files(pattern = \"xlsx\")"
   ]
  },
  {
   "cell_type": "code",
   "execution_count": 5,
   "metadata": {
    "slideshow": {
     "slide_type": "slide"
    }
   },
   "outputs": [
    {
     "name": "stdout",
     "output_type": "stream",
     "text": [
      "Classes ‘tbl_df’, ‘tbl’ and 'data.frame':\t26894 obs. of  3 variables:\n",
      " $ movieCode: chr  \"68831\" \"46851\" \"48065\" \"99481\" ...\n",
      " $ movieLink: chr  \"http://movie.naver.com/movie/bi/mi/basic.nhn?code=68831\" \"http://movie.naver.com/movie/bi/mi/basic.nhn?code=46851\" \"http://movie.naver.com/movie/bi/mi/basic.nhn?code=48065\" \"http://movie.naver.com/movie/bi/mi/basic.nhn?code=99481\" ...\n",
      " $ movieName: chr  \"0.5\" \"0.6˚의 재앙 (The Disaster 0.6˚)\" \"0.7\" \"0.7%의 삶\" ...\n"
     ]
    },
    {
     "data": {
      "text/html": [
       "<table>\n",
       "<thead><tr><th scope=col>movieCode</th><th scope=col>movieLink</th><th scope=col>movieName</th></tr></thead>\n",
       "<tbody>\n",
       "\t<tr><td>68831                                                   </td><td>http://movie.naver.com/movie/bi/mi/basic.nhn?code=68831 </td><td>0.5                                                     </td></tr>\n",
       "\t<tr><td>46851                                                   </td><td>http://movie.naver.com/movie/bi/mi/basic.nhn?code=46851 </td><td>0.6˚의 재앙 (The Disaster 0.6˚)                       </td></tr>\n",
       "\t<tr><td>48065                                                   </td><td>http://movie.naver.com/movie/bi/mi/basic.nhn?code=48065 </td><td>0.7                                                     </td></tr>\n",
       "\t<tr><td>99481                                                   </td><td>http://movie.naver.com/movie/bi/mi/basic.nhn?code=99481 </td><td>0.7%의 삶                                               </td></tr>\n",
       "\t<tr><td>147380                                                  </td><td>http://movie.naver.com/movie/bi/mi/basic.nhn?code=147380</td><td>0000                                                    </td></tr>\n",
       "\t<tr><td>116885                                                  </td><td>http://movie.naver.com/movie/bi/mi/basic.nhn?code=116885</td><td>007 수퍼맨의 귀향 (The Return of 007 Superman)          </td></tr>\n",
       "\t<tr><td>41338                                                   </td><td>http://movie.naver.com/movie/bi/mi/basic.nhn?code=41338 </td><td>007 폭소 대작전                                         </td></tr>\n",
       "\t<tr><td>44587                                                   </td><td>http://movie.naver.com/movie/bi/mi/basic.nhn?code=44587 </td><td>00씨의 하루 (A Day With Mr. 00)                         </td></tr>\n",
       "\t<tr><td>29688                                                   </td><td>http://movie.naver.com/movie/bi/mi/basic.nhn?code=29688 </td><td>01412 파사신검 (01412 破邪神劍)                         </td></tr>\n",
       "\t<tr><td>106269                                                  </td><td>http://movie.naver.com/movie/bi/mi/basic.nhn?code=106269</td><td>0609_청계산 (A Weekend, and the Mountain)               </td></tr>\n",
       "</tbody>\n",
       "</table>\n"
      ],
      "text/latex": [
       "\\begin{tabular}{r|lll}\n",
       " movieCode & movieLink & movieName\\\\\n",
       "\\hline\n",
       "\t 68831                                                    & http://movie.naver.com/movie/bi/mi/basic.nhn?code=68831  & 0.5                                                     \\\\\n",
       "\t 46851                                                    & http://movie.naver.com/movie/bi/mi/basic.nhn?code=46851  & 0.6˚의 재앙 (The Disaster 0.6˚)                       \\\\\n",
       "\t 48065                                                    & http://movie.naver.com/movie/bi/mi/basic.nhn?code=48065  & 0.7                                                     \\\\\n",
       "\t 99481                                                    & http://movie.naver.com/movie/bi/mi/basic.nhn?code=99481  & 0.7\\%의 삶                                             \\\\\n",
       "\t 147380                                                   & http://movie.naver.com/movie/bi/mi/basic.nhn?code=147380 & 0000                                                    \\\\\n",
       "\t 116885                                                   & http://movie.naver.com/movie/bi/mi/basic.nhn?code=116885 & 007 수퍼맨의 귀향 (The Return of 007 Superman)          \\\\\n",
       "\t 41338                                                    & http://movie.naver.com/movie/bi/mi/basic.nhn?code=41338  & 007 폭소 대작전                                         \\\\\n",
       "\t 44587                                                    & http://movie.naver.com/movie/bi/mi/basic.nhn?code=44587  & 00씨의 하루 (A Day With Mr. 00)                         \\\\\n",
       "\t 29688                                                    & http://movie.naver.com/movie/bi/mi/basic.nhn?code=29688  & 01412 파사신검 (01412 破邪神劍)                         \\\\\n",
       "\t 106269                                                   & http://movie.naver.com/movie/bi/mi/basic.nhn?code=106269 & 0609\\_청계산 (A Weekend, and the Mountain)             \\\\\n",
       "\\end{tabular}\n"
      ],
      "text/markdown": [
       "\n",
       "movieCode | movieLink | movieName | \n",
       "|---|---|---|---|---|---|---|---|---|---|\n",
       "| 68831                                                    | http://movie.naver.com/movie/bi/mi/basic.nhn?code=68831  | 0.5                                                      | \n",
       "| 46851                                                    | http://movie.naver.com/movie/bi/mi/basic.nhn?code=46851  | 0.6˚의 재앙 (The Disaster 0.6˚)                        | \n",
       "| 48065                                                    | http://movie.naver.com/movie/bi/mi/basic.nhn?code=48065  | 0.7                                                      | \n",
       "| 99481                                                    | http://movie.naver.com/movie/bi/mi/basic.nhn?code=99481  | 0.7%의 삶                                                | \n",
       "| 147380                                                   | http://movie.naver.com/movie/bi/mi/basic.nhn?code=147380 | 0000                                                     | \n",
       "| 116885                                                   | http://movie.naver.com/movie/bi/mi/basic.nhn?code=116885 | 007 수퍼맨의 귀향 (The Return of 007 Superman)           | \n",
       "| 41338                                                    | http://movie.naver.com/movie/bi/mi/basic.nhn?code=41338  | 007 폭소 대작전                                          | \n",
       "| 44587                                                    | http://movie.naver.com/movie/bi/mi/basic.nhn?code=44587  | 00씨의 하루 (A Day With Mr. 00)                          | \n",
       "| 29688                                                    | http://movie.naver.com/movie/bi/mi/basic.nhn?code=29688  | 01412 파사신검 (01412 破邪神劍)                          | \n",
       "| 106269                                                   | http://movie.naver.com/movie/bi/mi/basic.nhn?code=106269 | 0609_청계산 (A Weekend, and the Mountain)                | \n",
       "\n",
       "\n"
      ],
      "text/plain": [
       "   movieCode movieLink                                               \n",
       "1  68831     http://movie.naver.com/movie/bi/mi/basic.nhn?code=68831 \n",
       "2  46851     http://movie.naver.com/movie/bi/mi/basic.nhn?code=46851 \n",
       "3  48065     http://movie.naver.com/movie/bi/mi/basic.nhn?code=48065 \n",
       "4  99481     http://movie.naver.com/movie/bi/mi/basic.nhn?code=99481 \n",
       "5  147380    http://movie.naver.com/movie/bi/mi/basic.nhn?code=147380\n",
       "6  116885    http://movie.naver.com/movie/bi/mi/basic.nhn?code=116885\n",
       "7  41338     http://movie.naver.com/movie/bi/mi/basic.nhn?code=41338 \n",
       "8  44587     http://movie.naver.com/movie/bi/mi/basic.nhn?code=44587 \n",
       "9  29688     http://movie.naver.com/movie/bi/mi/basic.nhn?code=29688 \n",
       "10 106269    http://movie.naver.com/movie/bi/mi/basic.nhn?code=106269\n",
       "   movieName                                     \n",
       "1  0.5                                           \n",
       "2  0.6˚의 재앙 (The Disaster 0.6˚)             \n",
       "3  0.7                                           \n",
       "4  0.7%의 삶                                     \n",
       "5  0000                                          \n",
       "6  007 수퍼맨의 귀향 (The Return of 007 Superman)\n",
       "7  007 폭소 대작전                               \n",
       "8  00씨의 하루 (A Day With Mr. 00)               \n",
       "9  01412 파사신검 (01412 破邪神劍)               \n",
       "10 0609_청계산 (A Weekend, and the Mountain)     "
      ]
     },
     "metadata": {},
     "output_type": "display_data"
    }
   ],
   "source": [
    "# 한국영화 리스트 불러오기 \n",
    "movieList <- read_excel(\"Korean movie_20171123.xlsx\")\n",
    "\n",
    "# 데이터 구조 확인\n",
    "str(movieList)\n",
    "\n",
    "# 첫 10줄만 미리보기\n",
    "head(movieList, 10L)"
   ]
  },
  {
   "cell_type": "code",
   "execution_count": 6,
   "metadata": {
    "slideshow": {
     "slide_type": "slide"
    }
   },
   "outputs": [
    {
     "name": "stdout",
     "output_type": "stream",
     "text": [
      "Classes ‘tbl_df’, ‘tbl’ and 'data.frame':\t25571 obs. of  2 variables:\n",
      " $ movieCode: chr  \"68831\" \"46851\" \"48065\" \"99481\" ...\n",
      " $ year     : chr  \"2006\" \"2005\" \"2001\" \"2012\" ...\n"
     ]
    },
    {
     "data": {
      "text/html": [
       "<table>\n",
       "<thead><tr><th scope=col>movieCode</th><th scope=col>year</th></tr></thead>\n",
       "<tbody>\n",
       "\t<tr><td>68831 </td><td>2006  </td></tr>\n",
       "\t<tr><td>46851 </td><td>2005  </td></tr>\n",
       "\t<tr><td>48065 </td><td>2001  </td></tr>\n",
       "\t<tr><td>99481 </td><td>2012  </td></tr>\n",
       "\t<tr><td>147380</td><td>2015  </td></tr>\n",
       "\t<tr><td>116885</td><td>2007  </td></tr>\n",
       "\t<tr><td>41338 </td><td>1991  </td></tr>\n",
       "\t<tr><td>44587 </td><td>2007  </td></tr>\n",
       "\t<tr><td>106269</td><td>2012  </td></tr>\n",
       "\t<tr><td>130258</td><td>2014  </td></tr>\n",
       "</tbody>\n",
       "</table>\n"
      ],
      "text/latex": [
       "\\begin{tabular}{r|ll}\n",
       " movieCode & year\\\\\n",
       "\\hline\n",
       "\t 68831  & 2006  \\\\\n",
       "\t 46851  & 2005  \\\\\n",
       "\t 48065  & 2001  \\\\\n",
       "\t 99481  & 2012  \\\\\n",
       "\t 147380 & 2015  \\\\\n",
       "\t 116885 & 2007  \\\\\n",
       "\t 41338  & 1991  \\\\\n",
       "\t 44587  & 2007  \\\\\n",
       "\t 106269 & 2012  \\\\\n",
       "\t 130258 & 2014  \\\\\n",
       "\\end{tabular}\n"
      ],
      "text/markdown": [
       "\n",
       "movieCode | year | \n",
       "|---|---|---|---|---|---|---|---|---|---|\n",
       "| 68831  | 2006   | \n",
       "| 46851  | 2005   | \n",
       "| 48065  | 2001   | \n",
       "| 99481  | 2012   | \n",
       "| 147380 | 2015   | \n",
       "| 116885 | 2007   | \n",
       "| 41338  | 1991   | \n",
       "| 44587  | 2007   | \n",
       "| 106269 | 2012   | \n",
       "| 130258 | 2014   | \n",
       "\n",
       "\n"
      ],
      "text/plain": [
       "   movieCode year\n",
       "1  68831     2006\n",
       "2  46851     2005\n",
       "3  48065     2001\n",
       "4  99481     2012\n",
       "5  147380    2015\n",
       "6  116885    2007\n",
       "7  41338     1991\n",
       "8  44587     2007\n",
       "9  106269    2012\n",
       "10 130258    2014"
      ]
     },
     "metadata": {},
     "output_type": "display_data"
    }
   ],
   "source": [
    "# 한국영화 제작년도 데이터 불러오기\n",
    "myearList <- read_excel(\"Korean movie year_20171123.xlsx\")\n",
    "\n",
    "# 데이터 구조 확인\n",
    "str(myearList)\n",
    "\n",
    "# 첫 10줄만 미리보기\n",
    "head(myearList, 10L)"
   ]
  },
  {
   "cell_type": "code",
   "execution_count": 7,
   "metadata": {
    "slideshow": {
     "slide_type": "slide"
    }
   },
   "outputs": [
    {
     "name": "stdout",
     "output_type": "stream",
     "text": [
      "Classes ‘tbl_df’, ‘tbl’ and 'data.frame':\t109234 obs. of  4 variables:\n",
      " $ actorCode: chr  \"381876\" \"363129\" \"406889\" \"389265\" ...\n",
      " $ actorLink: chr  \"http://movie.naver.com/movie/bi/pi/basic.nhn?code=381876\" \"http://movie.naver.com/movie/bi/pi/basic.nhn?code=363129\" \"http://movie.naver.com/movie/bi/pi/basic.nhn?code=406889\" \"http://movie.naver.com/movie/bi/pi/basic.nhn?code=389265\" ...\n",
      " $ actorName: chr  \"박현수\" \"이보리\" \"전혜원\" \"이민지\" ...\n",
      " $ movieCode: chr  \"147380\" \"147380\" \"147380\" \"147380\" ...\n"
     ]
    },
    {
     "data": {
      "text/html": [
       "<table>\n",
       "<thead><tr><th scope=col>actorCode</th><th scope=col>actorLink</th><th scope=col>actorName</th><th scope=col>movieCode</th></tr></thead>\n",
       "<tbody>\n",
       "\t<tr><td>381876                                                  </td><td>http://movie.naver.com/movie/bi/pi/basic.nhn?code=381876</td><td>박현수                                                  </td><td>147380                                                  </td></tr>\n",
       "\t<tr><td>363129                                                  </td><td>http://movie.naver.com/movie/bi/pi/basic.nhn?code=363129</td><td>이보리                                                  </td><td>147380                                                  </td></tr>\n",
       "\t<tr><td>406889                                                  </td><td>http://movie.naver.com/movie/bi/pi/basic.nhn?code=406889</td><td>전혜원                                                  </td><td>147380                                                  </td></tr>\n",
       "\t<tr><td>389265                                                  </td><td>http://movie.naver.com/movie/bi/pi/basic.nhn?code=389265</td><td>이민지                                                  </td><td>147380                                                  </td></tr>\n",
       "\t<tr><td>389266                                                  </td><td>http://movie.naver.com/movie/bi/pi/basic.nhn?code=389266</td><td>공예림                                                  </td><td>147380                                                  </td></tr>\n",
       "\t<tr><td>1841                                                    </td><td>http://movie.naver.com/movie/bi/pi/basic.nhn?code=1841  </td><td>심형래                                                  </td><td>41338                                                   </td></tr>\n",
       "\t<tr><td>16803                                                   </td><td>http://movie.naver.com/movie/bi/pi/basic.nhn?code=16803 </td><td>김학래                                                  </td><td>41338                                                   </td></tr>\n",
       "\t<tr><td>18596                                                   </td><td>http://movie.naver.com/movie/bi/pi/basic.nhn?code=18596 </td><td>박승대                                                  </td><td>41338                                                   </td></tr>\n",
       "\t<tr><td>55490                                                   </td><td>http://movie.naver.com/movie/bi/pi/basic.nhn?code=55490 </td><td>최선미                                                  </td><td>41338                                                   </td></tr>\n",
       "\t<tr><td>67669                                                   </td><td>http://movie.naver.com/movie/bi/pi/basic.nhn?code=67669 </td><td>곽재문                                                  </td><td>41338                                                   </td></tr>\n",
       "</tbody>\n",
       "</table>\n"
      ],
      "text/latex": [
       "\\begin{tabular}{r|llll}\n",
       " actorCode & actorLink & actorName & movieCode\\\\\n",
       "\\hline\n",
       "\t 381876                                                   & http://movie.naver.com/movie/bi/pi/basic.nhn?code=381876 & 박현수                                                   & 147380                                                  \\\\\n",
       "\t 363129                                                   & http://movie.naver.com/movie/bi/pi/basic.nhn?code=363129 & 이보리                                                   & 147380                                                  \\\\\n",
       "\t 406889                                                   & http://movie.naver.com/movie/bi/pi/basic.nhn?code=406889 & 전혜원                                                   & 147380                                                  \\\\\n",
       "\t 389265                                                   & http://movie.naver.com/movie/bi/pi/basic.nhn?code=389265 & 이민지                                                   & 147380                                                  \\\\\n",
       "\t 389266                                                   & http://movie.naver.com/movie/bi/pi/basic.nhn?code=389266 & 공예림                                                   & 147380                                                  \\\\\n",
       "\t 1841                                                     & http://movie.naver.com/movie/bi/pi/basic.nhn?code=1841   & 심형래                                                   & 41338                                                   \\\\\n",
       "\t 16803                                                    & http://movie.naver.com/movie/bi/pi/basic.nhn?code=16803  & 김학래                                                   & 41338                                                   \\\\\n",
       "\t 18596                                                    & http://movie.naver.com/movie/bi/pi/basic.nhn?code=18596  & 박승대                                                   & 41338                                                   \\\\\n",
       "\t 55490                                                    & http://movie.naver.com/movie/bi/pi/basic.nhn?code=55490  & 최선미                                                   & 41338                                                   \\\\\n",
       "\t 67669                                                    & http://movie.naver.com/movie/bi/pi/basic.nhn?code=67669  & 곽재문                                                   & 41338                                                   \\\\\n",
       "\\end{tabular}\n"
      ],
      "text/markdown": [
       "\n",
       "actorCode | actorLink | actorName | movieCode | \n",
       "|---|---|---|---|---|---|---|---|---|---|\n",
       "| 381876                                                   | http://movie.naver.com/movie/bi/pi/basic.nhn?code=381876 | 박현수                                                   | 147380                                                   | \n",
       "| 363129                                                   | http://movie.naver.com/movie/bi/pi/basic.nhn?code=363129 | 이보리                                                   | 147380                                                   | \n",
       "| 406889                                                   | http://movie.naver.com/movie/bi/pi/basic.nhn?code=406889 | 전혜원                                                   | 147380                                                   | \n",
       "| 389265                                                   | http://movie.naver.com/movie/bi/pi/basic.nhn?code=389265 | 이민지                                                   | 147380                                                   | \n",
       "| 389266                                                   | http://movie.naver.com/movie/bi/pi/basic.nhn?code=389266 | 공예림                                                   | 147380                                                   | \n",
       "| 1841                                                     | http://movie.naver.com/movie/bi/pi/basic.nhn?code=1841   | 심형래                                                   | 41338                                                    | \n",
       "| 16803                                                    | http://movie.naver.com/movie/bi/pi/basic.nhn?code=16803  | 김학래                                                   | 41338                                                    | \n",
       "| 18596                                                    | http://movie.naver.com/movie/bi/pi/basic.nhn?code=18596  | 박승대                                                   | 41338                                                    | \n",
       "| 55490                                                    | http://movie.naver.com/movie/bi/pi/basic.nhn?code=55490  | 최선미                                                   | 41338                                                    | \n",
       "| 67669                                                    | http://movie.naver.com/movie/bi/pi/basic.nhn?code=67669  | 곽재문                                                   | 41338                                                    | \n",
       "\n",
       "\n"
      ],
      "text/plain": [
       "   actorCode actorLink                                                actorName\n",
       "1  381876    http://movie.naver.com/movie/bi/pi/basic.nhn?code=381876 박현수   \n",
       "2  363129    http://movie.naver.com/movie/bi/pi/basic.nhn?code=363129 이보리   \n",
       "3  406889    http://movie.naver.com/movie/bi/pi/basic.nhn?code=406889 전혜원   \n",
       "4  389265    http://movie.naver.com/movie/bi/pi/basic.nhn?code=389265 이민지   \n",
       "5  389266    http://movie.naver.com/movie/bi/pi/basic.nhn?code=389266 공예림   \n",
       "6  1841      http://movie.naver.com/movie/bi/pi/basic.nhn?code=1841   심형래   \n",
       "7  16803     http://movie.naver.com/movie/bi/pi/basic.nhn?code=16803  김학래   \n",
       "8  18596     http://movie.naver.com/movie/bi/pi/basic.nhn?code=18596  박승대   \n",
       "9  55490     http://movie.naver.com/movie/bi/pi/basic.nhn?code=55490  최선미   \n",
       "10 67669     http://movie.naver.com/movie/bi/pi/basic.nhn?code=67669  곽재문   \n",
       "   movieCode\n",
       "1  147380   \n",
       "2  147380   \n",
       "3  147380   \n",
       "4  147380   \n",
       "5  147380   \n",
       "6  41338    \n",
       "7  41338    \n",
       "8  41338    \n",
       "9  41338    \n",
       "10 41338    "
      ]
     },
     "metadata": {},
     "output_type": "display_data"
    }
   ],
   "source": [
    "# 한국영화 출연배우 리스트 불러오기\n",
    "actorList <- read_excel(\"Korean movie actors_20171123.xlsx\")\n",
    "\n",
    "# 데이터 구조 확인\n",
    "str(actorList)\n",
    "\n",
    "# 첫 10줄만 미리보기\n",
    "head(actorList, 10L)"
   ]
  },
  {
   "cell_type": "code",
   "execution_count": 8,
   "metadata": {
    "slideshow": {
     "slide_type": "slide"
    }
   },
   "outputs": [
    {
     "name": "stdout",
     "output_type": "stream",
     "text": [
      "'data.frame':\t109234 obs. of  5 variables:\n",
      " $ movieCode: chr  \"100001\" \"100001\" \"100001\" \"100001\" ...\n",
      " $ actorCode: chr  \"40569\" \"48841\" \"97542\" \"42817\" ...\n",
      " $ actorName: chr  \"최승준\" \"시영준\" \"신용우\" \"윤여진\" ...\n",
      " $ movieName: chr  \"와라! 편의점\" \"와라! 편의점\" \"와라! 편의점\" \"와라! 편의점\" ...\n",
      " $ year     : chr  \"2009\" \"2009\" \"2009\" \"2009\" ...\n"
     ]
    }
   ],
   "source": [
    "# 불필요한 컬럼 삭제 (링크 컬럼)\n",
    "movieList <- movieList[, c(-2)]\n",
    "actorList <- actorList[, c(-2)]\n",
    "\n",
    "# 데이터 프레임 합치기\n",
    "df <- merge(x = actorList, \n",
    "            y = movieList, \n",
    "            by = \"movieCode\", \n",
    "            all.x = TRUE)\n",
    "\n",
    "df <- merge(x = df, \n",
    "            y = myearList, \n",
    "            by = \"movieCode\", \n",
    "            all.x = TRUE)\n",
    "\n",
    "# 데이터 프레임 구조 확인하기\n",
    "str(df)"
   ]
  },
  {
   "cell_type": "code",
   "execution_count": 9,
   "metadata": {
    "slideshow": {
     "slide_type": "slide"
    }
   },
   "outputs": [
    {
     "data": {
      "text/html": [
       "<table>\n",
       "<thead><tr><th scope=col>movieCode</th><th scope=col>movieName</th><th scope=col>actorCode</th><th scope=col>actorName</th><th scope=col>year</th></tr></thead>\n",
       "<tbody>\n",
       "\t<tr><td>100001                  </td><td>와라! 편의점            </td><td>40569                   </td><td>최승준                  </td><td>2009                    </td></tr>\n",
       "\t<tr><td>100001                  </td><td>와라! 편의점            </td><td>48841                   </td><td>시영준                  </td><td>2009                    </td></tr>\n",
       "\t<tr><td>100001                  </td><td>와라! 편의점            </td><td>97542                   </td><td>신용우                  </td><td>2009                    </td></tr>\n",
       "\t<tr><td>100001                  </td><td>와라! 편의점            </td><td>42817                   </td><td>윤여진                  </td><td>2009                    </td></tr>\n",
       "\t<tr><td>100001                  </td><td>와라! 편의점            </td><td>5527                    </td><td>이계윤                  </td><td>2009                    </td></tr>\n",
       "\t<tr><td>100009                  </td><td>박제된 공주 (Briar Rose)</td><td>47790                   </td><td>정보름                  </td><td>2012                    </td></tr>\n",
       "\t<tr><td>100009                  </td><td>박제된 공주 (Briar Rose)</td><td>1712                    </td><td>김꽃지                  </td><td>2012                    </td></tr>\n",
       "\t<tr><td>100009                  </td><td>박제된 공주 (Briar Rose)</td><td>80534                   </td><td>이명진                  </td><td>2012                    </td></tr>\n",
       "\t<tr><td>100017                  </td><td>검지손가락              </td><td>5770                    </td><td>류덕환                  </td><td>2011                    </td></tr>\n",
       "\t<tr><td>100017                  </td><td>검지손가락              </td><td>48937                   </td><td>소이                    </td><td>2011                    </td></tr>\n",
       "</tbody>\n",
       "</table>\n"
      ],
      "text/latex": [
       "\\begin{tabular}{r|lllll}\n",
       " movieCode & movieName & actorCode & actorName & year\\\\\n",
       "\\hline\n",
       "\t 100001                   & 와라! 편의점             & 40569                    & 최승준                   & 2009                    \\\\\n",
       "\t 100001                   & 와라! 편의점             & 48841                    & 시영준                   & 2009                    \\\\\n",
       "\t 100001                   & 와라! 편의점             & 97542                    & 신용우                   & 2009                    \\\\\n",
       "\t 100001                   & 와라! 편의점             & 42817                    & 윤여진                   & 2009                    \\\\\n",
       "\t 100001                   & 와라! 편의점             & 5527                     & 이계윤                   & 2009                    \\\\\n",
       "\t 100009                   & 박제된 공주 (Briar Rose) & 47790                    & 정보름                   & 2012                    \\\\\n",
       "\t 100009                   & 박제된 공주 (Briar Rose) & 1712                     & 김꽃지                   & 2012                    \\\\\n",
       "\t 100009                   & 박제된 공주 (Briar Rose) & 80534                    & 이명진                   & 2012                    \\\\\n",
       "\t 100017                   & 검지손가락               & 5770                     & 류덕환                   & 2011                    \\\\\n",
       "\t 100017                   & 검지손가락               & 48937                    & 소이                     & 2011                    \\\\\n",
       "\\end{tabular}\n"
      ],
      "text/markdown": [
       "\n",
       "movieCode | movieName | actorCode | actorName | year | \n",
       "|---|---|---|---|---|---|---|---|---|---|\n",
       "| 100001                   | 와라! 편의점             | 40569                    | 최승준                   | 2009                     | \n",
       "| 100001                   | 와라! 편의점             | 48841                    | 시영준                   | 2009                     | \n",
       "| 100001                   | 와라! 편의점             | 97542                    | 신용우                   | 2009                     | \n",
       "| 100001                   | 와라! 편의점             | 42817                    | 윤여진                   | 2009                     | \n",
       "| 100001                   | 와라! 편의점             | 5527                     | 이계윤                   | 2009                     | \n",
       "| 100009                   | 박제된 공주 (Briar Rose) | 47790                    | 정보름                   | 2012                     | \n",
       "| 100009                   | 박제된 공주 (Briar Rose) | 1712                     | 김꽃지                   | 2012                     | \n",
       "| 100009                   | 박제된 공주 (Briar Rose) | 80534                    | 이명진                   | 2012                     | \n",
       "| 100017                   | 검지손가락               | 5770                     | 류덕환                   | 2011                     | \n",
       "| 100017                   | 검지손가락               | 48937                    | 소이                     | 2011                     | \n",
       "\n",
       "\n"
      ],
      "text/plain": [
       "   movieCode movieName                actorCode actorName year\n",
       "1  100001    와라! 편의점             40569     최승준    2009\n",
       "2  100001    와라! 편의점             48841     시영준    2009\n",
       "3  100001    와라! 편의점             97542     신용우    2009\n",
       "4  100001    와라! 편의점             42817     윤여진    2009\n",
       "5  100001    와라! 편의점             5527      이계윤    2009\n",
       "6  100009    박제된 공주 (Briar Rose) 47790     정보름    2012\n",
       "7  100009    박제된 공주 (Briar Rose) 1712      김꽃지    2012\n",
       "8  100009    박제된 공주 (Briar Rose) 80534     이명진    2012\n",
       "9  100017    검지손가락               5770      류덕환    2011\n",
       "10 100017    검지손가락               48937     소이      2011"
      ]
     },
     "metadata": {},
     "output_type": "display_data"
    }
   ],
   "source": [
    "# 컬럼 순서 변경\n",
    "df <- df[, c(\"movieCode\",\"movieName\",\"actorCode\",\"actorName\",\"year\")]\n",
    "\n",
    "# 영화코드 기준으로 오름차순 정렬\n",
    "df <- df[order(df$movieCode),]\n",
    "\n",
    "# 첫 10줄만 미리보기\n",
    "head(df, 10)"
   ]
  },
  {
   "cell_type": "code",
   "execution_count": 10,
   "metadata": {
    "slideshow": {
     "slide_type": "slide"
    }
   },
   "outputs": [
    {
     "data": {
      "text/html": [
       "<table>\n",
       "<thead><tr><th scope=col>actorCode</th><th scope=col>actorName</th><th scope=col>movieCnt</th></tr></thead>\n",
       "<tbody>\n",
       "\t<tr><td>165414             </td><td>2AM                </td><td> 3                 </td></tr>\n",
       "\t<tr><td>174333             </td><td>2PM                </td><td> 1                 </td></tr>\n",
       "\t<tr><td>307425             </td><td>45rpm              </td><td> 1                 </td></tr>\n",
       "\t<tr><td>380209             </td><td>가나메 유키코      </td><td> 1                 </td></tr>\n",
       "\t<tr><td>6430               </td><td>가네코 타카토시    </td><td> 1                 </td></tr>\n",
       "\t<tr><td>378601             </td><td>가다니엘           </td><td> 1                 </td></tr>\n",
       "\t<tr><td>165479             </td><td>가득희             </td><td>12                 </td></tr>\n",
       "\t<tr><td>303918             </td><td>가람               </td><td> 1                 </td></tr>\n",
       "\t<tr><td>307428             </td><td>가리온             </td><td> 1                 </td></tr>\n",
       "\t<tr><td>147878             </td><td>가브리앨라 무스카와</td><td> 1                 </td></tr>\n",
       "</tbody>\n",
       "</table>\n"
      ],
      "text/latex": [
       "\\begin{tabular}{r|lll}\n",
       " actorCode & actorName & movieCnt\\\\\n",
       "\\hline\n",
       "\t 165414              & 2AM                 &  3                 \\\\\n",
       "\t 174333              & 2PM                 &  1                 \\\\\n",
       "\t 307425              & 45rpm               &  1                 \\\\\n",
       "\t 380209              & 가나메 유키코       &  1                 \\\\\n",
       "\t 6430                & 가네코 타카토시     &  1                 \\\\\n",
       "\t 378601              & 가다니엘            &  1                 \\\\\n",
       "\t 165479              & 가득희              & 12                 \\\\\n",
       "\t 303918              & 가람                &  1                 \\\\\n",
       "\t 307428              & 가리온              &  1                 \\\\\n",
       "\t 147878              & 가브리앨라 무스카와 &  1                 \\\\\n",
       "\\end{tabular}\n"
      ],
      "text/markdown": [
       "\n",
       "actorCode | actorName | movieCnt | \n",
       "|---|---|---|---|---|---|---|---|---|---|\n",
       "| 165414              | 2AM                 |  3                  | \n",
       "| 174333              | 2PM                 |  1                  | \n",
       "| 307425              | 45rpm               |  1                  | \n",
       "| 380209              | 가나메 유키코       |  1                  | \n",
       "| 6430                | 가네코 타카토시     |  1                  | \n",
       "| 378601              | 가다니엘            |  1                  | \n",
       "| 165479              | 가득희              | 12                  | \n",
       "| 303918              | 가람                |  1                  | \n",
       "| 307428              | 가리온              |  1                  | \n",
       "| 147878              | 가브리앨라 무스카와 |  1                  | \n",
       "\n",
       "\n"
      ],
      "text/plain": [
       "   actorCode actorName           movieCnt\n",
       "1  165414    2AM                  3      \n",
       "2  174333    2PM                  1      \n",
       "3  307425    45rpm                1      \n",
       "4  380209    가나메 유키코        1      \n",
       "5  6430      가네코 타카토시      1      \n",
       "6  378601    가다니엘             1      \n",
       "7  165479    가득희              12      \n",
       "8  303918    가람                 1      \n",
       "9  307428    가리온               1      \n",
       "10 147878    가브리앨라 무스카와  1      "
      ]
     },
     "metadata": {},
     "output_type": "display_data"
    }
   ],
   "source": [
    "# 배우별 출연한 영화수 컬럼 만들기\n",
    "numMovie <- aggregate(x = df$movieCode, \n",
    "                      by = list(df$actorCode, df$actorName), \n",
    "                      FUN = length)\n",
    "\n",
    "# 컬럼명 바꾸기\n",
    "colnames(numMovie) <- c(\"actorCode\",\"actorName\",\"movieCnt\")\n",
    "\n",
    "# 첫 10줄만 미리보기\n",
    "head(numMovie, 10L)"
   ]
  },
  {
   "cell_type": "code",
   "execution_count": 11,
   "metadata": {
    "slideshow": {
     "slide_type": "slide"
    }
   },
   "outputs": [
    {
     "data": {
      "text/plain": [
       "\n",
       "    1     2     3     4     5     6     7     8     9    10    11    12    13 \n",
       "16085  6688  4806  3880  3210  2892  2520  2264  2205  1990  1881  1932  1599 \n",
       "   14    15    16    17    18    19    20    21    22    23    24    25    26 \n",
       " 1848  1455  1776  1615  1494  1596  1600  1323  1276  1380  1200  1350   832 \n",
       "   27    28    29    30    31    32    33    34    35    36    37    38    39 \n",
       " 1215  1092  1334  1110  1333  1312  1023   714   630   936   555   912   702 \n",
       "   40    41    42    43    44    45    46    47    48    49    50    51    52 \n",
       "  440   656   588   731   748   720   506   658   576   588   600   255   572 \n",
       "   53    54    55    56    57    58    59    60    61    63    64    65    66 \n",
       "  318   540   165   168   570   232   236   360   305   378   256   520    66 \n",
       "   67    68    69    70    71    72    73    74    75    76    77    78    79 \n",
       "  201   340   345   210   142   216   365    74   150   304   154   234   158 \n",
       "   80    81    82    83    84    86    87    88    90    91    92    95    98 \n",
       "  240    81   164   332    84   172   174    88    90    91   276    95    98 \n",
       "   99   100   101   102   103   104   105   106   110   111   112   113   114 \n",
       "   99   200   202   102   103   104   105   212   110   111   112   113   114 \n",
       "  115   116   117   118   120   121   124   125   126   127   128   132   139 \n",
       "  115   116   117   118   240   121   124   125   126   127   128   132   139 \n",
       "  156   158   160   169   182   187   188   189   191   207   209   212   223 \n",
       "  156   158   160   169   364   187   188   189   191   207   209   212   223 \n",
       "  228   240   247   264   275   290   296   318   343   505  <NA> \n",
       "  228   240   247   264   275   290   296   318   343   505     5 "
      ]
     },
     "metadata": {},
     "output_type": "display_data"
    }
   ],
   "source": [
    "# 배우-영화 데이터에 병합\n",
    "df <- merge(x = df, \n",
    "            y = numMovie[,c(1,3)], \n",
    "            by = \"actorCode\", \n",
    "            all.x = TRUE)\n",
    "\n",
    "# 배우별 출연한 영화수 빈도 확인\n",
    "# \"useNA\" 인자를 추가하면 NA인 값의 빈도수도 함께 출력 \n",
    "table(df$movieCnt, useNA = \"ifany\")"
   ]
  },
  {
   "cell_type": "code",
   "execution_count": 12,
   "metadata": {
    "slideshow": {
     "slide_type": "slide"
    }
   },
   "outputs": [],
   "source": [
    "# NA 삭제\n",
    "df <- df[is.na(df$movieCnt) == FALSE,]"
   ]
  },
  {
   "cell_type": "code",
   "execution_count": 13,
   "metadata": {
    "scrolled": true,
    "slideshow": {
     "slide_type": "slide"
    }
   },
   "outputs": [
    {
     "data": {
      "text/html": [
       "<table>\n",
       "<thead><tr><th></th><th scope=col>actorCode</th><th scope=col>movieCode</th><th scope=col>movieName</th><th scope=col>actorName</th><th scope=col>year</th><th scope=col>movieCnt</th></tr></thead>\n",
       "<tbody>\n",
       "\t<tr><th scope=row>20806</th><td>1833                                                         </td><td>21884                                                        </td><td>아무리 미워도                                                </td><td>강신성일                                                     </td><td>1969                                                         </td><td>505                                                          </td></tr>\n",
       "\t<tr><th scope=row>20807</th><td>1833                                                         </td><td>21904                                                        </td><td>아스팔트 위의 여자                                           </td><td>강신성일                                                     </td><td>1978                                                         </td><td>505                                                          </td></tr>\n",
       "\t<tr><th scope=row>20808</th><td>1833                                                         </td><td>19772                                                        </td><td>고백                                                         </td><td>강신성일                                                     </td><td>1971                                                         </td><td>505                                                          </td></tr>\n",
       "\t<tr><th scope=row>20809</th><td>1833                                                         </td><td>23201                                                        </td><td>청춘 교실 (청춘교실)                                         </td><td>강신성일                                                     </td><td>1963                                                         </td><td>505                                                          </td></tr>\n",
       "\t<tr><th scope=row>20810</th><td>1833                                                         </td><td>19897                                                        </td><td>그 얼굴에 햇살을 (Sunshine of the face)                      </td><td>강신성일                                                     </td><td>1973                                                         </td><td>505                                                          </td></tr>\n",
       "\t<tr><th scope=row>20811</th><td>1833                                                         </td><td>21566                                                        </td><td>설원의 정                                                    </td><td>강신성일                                                     </td><td>1970                                                         </td><td>505                                                          </td></tr>\n",
       "\t<tr><th scope=row>20812</th><td>1833                                                         </td><td>16194                                                        </td><td>에미 (Woman Requiem)                                         </td><td>강신성일                                                     </td><td>1985                                                         </td><td>505                                                          </td></tr>\n",
       "\t<tr><th scope=row>20813</th><td>1833                                                         </td><td>21561                                                        </td><td>설녀                                                         </td><td>강신성일                                                     </td><td>1968                                                         </td><td>505                                                          </td></tr>\n",
       "\t<tr><th scope=row>20814</th><td>1833                                                         </td><td>21911                                                        </td><td>아파트의 여인                                                </td><td>강신성일                                                     </td><td>1969                                                         </td><td>505                                                          </td></tr>\n",
       "\t<tr><th scope=row>20815</th><td>1833                                                         </td><td>93833                                                        </td><td>투 더 라스트 데이 (To the Last Day)                          </td><td>강신성일                                                     </td><td>1960                                                         </td><td>505                                                          </td></tr>\n",
       "\t<tr><th scope=row>20816</th><td>1833                                                         </td><td>21467                                                        </td><td>삼일천하                                                     </td><td>강신성일                                                     </td><td>1973                                                         </td><td>505                                                          </td></tr>\n",
       "\t<tr><th scope=row>20817</th><td>1833                                                         </td><td>20458                                                        </td><td>대륙의 밀사                                                  </td><td>강신성일                                                     </td><td>1964                                                         </td><td>505                                                          </td></tr>\n",
       "\t<tr><th scope=row>20818</th><td>1833                                                         </td><td>22826                                                        </td><td>장마루촌의 이발사                                            </td><td>강신성일                                                     </td><td>1969                                                         </td><td>505                                                          </td></tr>\n",
       "\t<tr><th scope=row>20819</th><td>1833                                                         </td><td>20553                                                        </td><td>돌아온 항구의 사나이                                         </td><td>강신성일                                                     </td><td>1970                                                         </td><td>505                                                          </td></tr>\n",
       "\t<tr><th scope=row>20820</th><td>1833                                                         </td><td>22952                                                        </td><td>제76포로수용소                                               </td><td>강신성일                                                     </td><td>1966                                                         </td><td>505                                                          </td></tr>\n",
       "\t<tr><th scope=row>20821</th><td>1833                                                         </td><td>23547                                                        </td><td>학녀                                                         </td><td>강신성일                                                     </td><td>1975                                                         </td><td>505                                                          </td></tr>\n",
       "\t<tr><th scope=row>20822</th><td>1833                                                         </td><td>23004                                                        </td><td>죽도록 보고 싶어                                             </td><td>강신성일                                                     </td><td>1965                                                         </td><td>505                                                          </td></tr>\n",
       "\t<tr><th scope=row>20823</th><td>1833                                                         </td><td>23470                                                        </td><td>폭로 (Disclosure)                                            </td><td>강신성일                                                     </td><td>1967                                                         </td><td>505                                                          </td></tr>\n",
       "\t<tr><th scope=row>20824</th><td>1833                                                         </td><td>20470                                                        </td><td>대전발 0시 50분                                              </td><td>강신성일                                                     </td><td>1963                                                         </td><td>505                                                          </td></tr>\n",
       "\t<tr><th scope=row>20825</th><td>1833                                                         </td><td>21728                                                        </td><td>승부                                                         </td><td>강신성일                                                     </td><td>1973                                                         </td><td>505                                                          </td></tr>\n",
       "\t<tr><th scope=row>20826</th><td>1833                                                         </td><td>20252                                                        </td><td>논개                                                         </td><td>강신성일                                                     </td><td>1972                                                         </td><td>505                                                          </td></tr>\n",
       "\t<tr><th scope=row>20827</th><td>1833                                                         </td><td>21110                                                        </td><td>봄, 여름, 가을 그리고 겨울 (Spring, Summer, Fall, And Winter)</td><td>강신성일                                                     </td><td>1971                                                         </td><td>505                                                          </td></tr>\n",
       "\t<tr><th scope=row>20828</th><td>1833                                                         </td><td>19880                                                        </td><td>귀부인 (Noble Lady)                                          </td><td>강신성일                                                     </td><td>1968                                                         </td><td>505                                                          </td></tr>\n",
       "\t<tr><th scope=row>20829</th><td>1833                                                         </td><td>22470                                                        </td><td>우리에게 내일은 있다                                         </td><td>강신성일                                                     </td><td>1976                                                         </td><td>505                                                          </td></tr>\n",
       "\t<tr><th scope=row>20830</th><td>1833                                                         </td><td>22675                                                        </td><td>이수일과 심순애                                              </td><td>강신성일                                                     </td><td>NA                                                           </td><td>505                                                          </td></tr>\n",
       "\t<tr><th scope=row>20831</th><td>1833                                                         </td><td>21730                                                        </td><td>시댁                                                         </td><td>강신성일                                                     </td><td>1969                                                         </td><td>505                                                          </td></tr>\n",
       "\t<tr><th scope=row>20832</th><td>1833                                                         </td><td>71685                                                        </td><td>동방의 빛                                                    </td><td>강신성일                                                     </td><td>2010                                                         </td><td>505                                                          </td></tr>\n",
       "\t<tr><th scope=row>20833</th><td>1833                                                         </td><td>21989                                                        </td><td>애와 사                                                      </td><td>강신성일                                                     </td><td>1970                                                         </td><td>505                                                          </td></tr>\n",
       "\t<tr><th scope=row>20834</th><td>1833                                                         </td><td>22271                                                        </td><td>연인의 길                                                    </td><td>강신성일                                                     </td><td>1967                                                         </td><td>505                                                          </td></tr>\n",
       "\t<tr><th scope=row>20835</th><td>1833                                                         </td><td>23539                                                        </td><td>하숙 인생                                                    </td><td>강신성일                                                     </td><td>1973                                                         </td><td>505                                                          </td></tr>\n",
       "\t<tr><th scope=row>⋮</th><td>⋮</td><td>⋮</td><td>⋮</td><td>⋮</td><td>⋮</td><td>⋮</td></tr>\n",
       "\t<tr><th scope=row>21281</th><td>1833                                        </td><td>21583                                       </td><td>성불사의 밤                                 </td><td>강신성일                                    </td><td>1970                                        </td><td>505                                         </td></tr>\n",
       "\t<tr><th scope=row>21282</th><td>1833                                        </td><td>16839                                       </td><td>누가 용의 발톱을 보았는가                   </td><td>강신성일                                    </td><td>1991                                        </td><td>505                                         </td></tr>\n",
       "\t<tr><th scope=row>21283</th><td>1833                                        </td><td>10937                                       </td><td>위기의 여자                                 </td><td>강신성일                                    </td><td>1987                                        </td><td>505                                         </td></tr>\n",
       "\t<tr><th scope=row>21284</th><td>1833                                        </td><td>21913                                       </td><td>아편전쟁                                    </td><td>강신성일                                    </td><td>1964                                        </td><td>505                                         </td></tr>\n",
       "\t<tr><th scope=row>21285</th><td>1833                                        </td><td>20930                                       </td><td>바람 (Wind)                                 </td><td>강신성일                                    </td><td>1969                                        </td><td>505                                         </td></tr>\n",
       "\t<tr><th scope=row>21286</th><td>1833                                        </td><td>22445                                       </td><td>용서받기 싫다                               </td><td>강신성일                                    </td><td>1964                                        </td><td>505                                         </td></tr>\n",
       "\t<tr><th scope=row>21287</th><td>1833                                        </td><td>22262                                       </td><td>연애 졸업반 (The Completion Of Love)        </td><td>강신성일                                    </td><td>1964                                        </td><td>505                                         </td></tr>\n",
       "\t<tr><th scope=row>21288</th><td>1833                                        </td><td>20496                                       </td><td>댁의 부인은 어떠십니까 (How’s Your Wife?)  </td><td>강신성일                                    </td><td>1966                                        </td><td>505                                         </td></tr>\n",
       "\t<tr><th scope=row>21289</th><td>1833                                        </td><td>23248                                       </td><td>총각김치 (총각김치)                         </td><td>강신성일                                    </td><td>1964                                        </td><td>505                                         </td></tr>\n",
       "\t<tr><th scope=row>21290</th><td>1833                                        </td><td>21854                                       </td><td>아들 3형제                                  </td><td>강신성일                                    </td><td>1974                                        </td><td>505                                         </td></tr>\n",
       "\t<tr><th scope=row>21291</th><td>1833                                        </td><td>23099                                       </td><td>찬란한 슬픔 (찬란한 슬픔)                   </td><td>강신성일                                    </td><td>1968                                        </td><td>505                                         </td></tr>\n",
       "\t<tr><th scope=row>21292</th><td>1833                                        </td><td>22108                                       </td><td>언제나 타인                                 </td><td>강신성일                                    </td><td>1969                                        </td><td>505                                         </td></tr>\n",
       "\t<tr><th scope=row>21293</th><td>1833                                        </td><td>21288                                       </td><td>사나이 가는 길에                            </td><td>강신성일                                    </td><td>1972                                        </td><td>505                                         </td></tr>\n",
       "\t<tr><th scope=row>21294</th><td>1833                                        </td><td>20699                                       </td><td>마지막 날의 언약 (A Promise on the Last Day)</td><td>강신성일                                    </td><td>1979                                        </td><td>505                                         </td></tr>\n",
       "\t<tr><th scope=row>21295</th><td>1833                                        </td><td>22341                                       </td><td>오백화                                      </td><td>강신성일                                    </td><td>1973                                        </td><td>505                                         </td></tr>\n",
       "\t<tr><th scope=row>21296</th><td>1833                                        </td><td>22033                                       </td><td>양반전                                      </td><td>강신성일                                    </td><td>1966                                        </td><td>505                                         </td></tr>\n",
       "\t<tr><th scope=row>21297</th><td>1833                                        </td><td>22048                                       </td><td>어느 하늘 아래서                            </td><td>강신성일                                    </td><td>1969                                        </td><td>505                                         </td></tr>\n",
       "\t<tr><th scope=row>21298</th><td>1833                                        </td><td>19822                                       </td><td>광복 20년과 백범 김구                       </td><td>강신성일                                    </td><td>1973                                        </td><td>505                                         </td></tr>\n",
       "\t<tr><th scope=row>21299</th><td>1833                                        </td><td>22655                                       </td><td>이별 (Farewell)                             </td><td>강신성일                                    </td><td>1973                                        </td><td>505                                         </td></tr>\n",
       "\t<tr><th scope=row>21300</th><td>1833                                        </td><td>21525                                       </td><td>서울 흐림 한때 비                           </td><td>강신성일                                    </td><td>1986                                        </td><td>505                                         </td></tr>\n",
       "\t<tr><th scope=row>21301</th><td>1833                                        </td><td>20412                                       </td><td>단골 손님                                   </td><td>강신성일                                    </td><td>1964                                        </td><td>505                                         </td></tr>\n",
       "\t<tr><th scope=row>21302</th><td>1833                                        </td><td>21013                                       </td><td>백구야 훨훨 날지마라                        </td><td>강신성일                                    </td><td>1982                                        </td><td>505                                         </td></tr>\n",
       "\t<tr><th scope=row>21303</th><td>1833                                        </td><td>20922                                       </td><td>밀회                                        </td><td>강신성일                                    </td><td>1965                                        </td><td>505                                         </td></tr>\n",
       "\t<tr><th scope=row>21304</th><td>1833                                        </td><td>22991                                       </td><td>종점                                        </td><td>강신성일                                    </td><td>1966                                        </td><td>505                                         </td></tr>\n",
       "\t<tr><th scope=row>21305</th><td>1833                                        </td><td>21478                                       </td><td>상속자                                      </td><td>강신성일                                    </td><td>1965                                        </td><td>505                                         </td></tr>\n",
       "\t<tr><th scope=row>21306</th><td>1833                                        </td><td>23366                                       </td><td>탑골 아씨                                   </td><td>강신성일                                    </td><td>1970                                        </td><td>505                                         </td></tr>\n",
       "\t<tr><th scope=row>21307</th><td>1833                                        </td><td>23540                                       </td><td>하숙생 (下宿生)                             </td><td>강신성일                                    </td><td>1966                                        </td><td>505                                         </td></tr>\n",
       "\t<tr><th scope=row>21308</th><td>1833                                        </td><td>14013                                       </td><td>모래성                                      </td><td>강신성일                                    </td><td>1989                                        </td><td>505                                         </td></tr>\n",
       "\t<tr><th scope=row>21309</th><td>1833                                        </td><td>22822                                       </td><td>장군의 수염 (The General's Mustache)        </td><td>강신성일                                    </td><td>1968                                        </td><td>505                                         </td></tr>\n",
       "\t<tr><th scope=row>21310</th><td>1833                                        </td><td>19732                                       </td><td>격동                                        </td><td>강신성일                                    </td><td>1975                                        </td><td>505                                         </td></tr>\n",
       "</tbody>\n",
       "</table>\n"
      ],
      "text/latex": [
       "\\begin{tabular}{r|llllll}\n",
       "  & actorCode & movieCode & movieName & actorName & year & movieCnt\\\\\n",
       "\\hline\n",
       "\t20806 & 1833                                                          & 21884                                                         & 아무리 미워도                                                 & 강신성일                                                      & 1969                                                          & 505                                                          \\\\\n",
       "\t20807 & 1833                                                          & 21904                                                         & 아스팔트 위의 여자                                            & 강신성일                                                      & 1978                                                          & 505                                                          \\\\\n",
       "\t20808 & 1833                                                          & 19772                                                         & 고백                                                          & 강신성일                                                      & 1971                                                          & 505                                                          \\\\\n",
       "\t20809 & 1833                                                          & 23201                                                         & 청춘 교실 (청춘교실)                                          & 강신성일                                                      & 1963                                                          & 505                                                          \\\\\n",
       "\t20810 & 1833                                                          & 19897                                                         & 그 얼굴에 햇살을 (Sunshine of the face)                       & 강신성일                                                      & 1973                                                          & 505                                                          \\\\\n",
       "\t20811 & 1833                                                          & 21566                                                         & 설원의 정                                                     & 강신성일                                                      & 1970                                                          & 505                                                          \\\\\n",
       "\t20812 & 1833                                                          & 16194                                                         & 에미 (Woman Requiem)                                          & 강신성일                                                      & 1985                                                          & 505                                                          \\\\\n",
       "\t20813 & 1833                                                          & 21561                                                         & 설녀                                                          & 강신성일                                                      & 1968                                                          & 505                                                          \\\\\n",
       "\t20814 & 1833                                                          & 21911                                                         & 아파트의 여인                                                 & 강신성일                                                      & 1969                                                          & 505                                                          \\\\\n",
       "\t20815 & 1833                                                          & 93833                                                         & 투 더 라스트 데이 (To the Last Day)                           & 강신성일                                                      & 1960                                                          & 505                                                          \\\\\n",
       "\t20816 & 1833                                                          & 21467                                                         & 삼일천하                                                      & 강신성일                                                      & 1973                                                          & 505                                                          \\\\\n",
       "\t20817 & 1833                                                          & 20458                                                         & 대륙의 밀사                                                   & 강신성일                                                      & 1964                                                          & 505                                                          \\\\\n",
       "\t20818 & 1833                                                          & 22826                                                         & 장마루촌의 이발사                                             & 강신성일                                                      & 1969                                                          & 505                                                          \\\\\n",
       "\t20819 & 1833                                                          & 20553                                                         & 돌아온 항구의 사나이                                          & 강신성일                                                      & 1970                                                          & 505                                                          \\\\\n",
       "\t20820 & 1833                                                          & 22952                                                         & 제76포로수용소                                                & 강신성일                                                      & 1966                                                          & 505                                                          \\\\\n",
       "\t20821 & 1833                                                          & 23547                                                         & 학녀                                                          & 강신성일                                                      & 1975                                                          & 505                                                          \\\\\n",
       "\t20822 & 1833                                                          & 23004                                                         & 죽도록 보고 싶어                                              & 강신성일                                                      & 1965                                                          & 505                                                          \\\\\n",
       "\t20823 & 1833                                                          & 23470                                                         & 폭로 (Disclosure)                                             & 강신성일                                                      & 1967                                                          & 505                                                          \\\\\n",
       "\t20824 & 1833                                                          & 20470                                                         & 대전발 0시 50분                                               & 강신성일                                                      & 1963                                                          & 505                                                          \\\\\n",
       "\t20825 & 1833                                                          & 21728                                                         & 승부                                                          & 강신성일                                                      & 1973                                                          & 505                                                          \\\\\n",
       "\t20826 & 1833                                                          & 20252                                                         & 논개                                                          & 강신성일                                                      & 1972                                                          & 505                                                          \\\\\n",
       "\t20827 & 1833                                                          & 21110                                                         & 봄, 여름, 가을 그리고 겨울 (Spring, Summer, Fall, And Winter) & 강신성일                                                      & 1971                                                          & 505                                                          \\\\\n",
       "\t20828 & 1833                                                          & 19880                                                         & 귀부인 (Noble Lady)                                           & 강신성일                                                      & 1968                                                          & 505                                                          \\\\\n",
       "\t20829 & 1833                                                          & 22470                                                         & 우리에게 내일은 있다                                          & 강신성일                                                      & 1976                                                          & 505                                                          \\\\\n",
       "\t20830 & 1833                                                          & 22675                                                         & 이수일과 심순애                                               & 강신성일                                                      & NA                                                            & 505                                                          \\\\\n",
       "\t20831 & 1833                                                          & 21730                                                         & 시댁                                                          & 강신성일                                                      & 1969                                                          & 505                                                          \\\\\n",
       "\t20832 & 1833                                                          & 71685                                                         & 동방의 빛                                                     & 강신성일                                                      & 2010                                                          & 505                                                          \\\\\n",
       "\t20833 & 1833                                                          & 21989                                                         & 애와 사                                                       & 강신성일                                                      & 1970                                                          & 505                                                          \\\\\n",
       "\t20834 & 1833                                                          & 22271                                                         & 연인의 길                                                     & 강신성일                                                      & 1967                                                          & 505                                                          \\\\\n",
       "\t20835 & 1833                                                          & 23539                                                         & 하숙 인생                                                     & 강신성일                                                      & 1973                                                          & 505                                                          \\\\\n",
       "\t⋮ & ⋮ & ⋮ & ⋮ & ⋮ & ⋮ & ⋮\\\\\n",
       "\t21281 & 1833                                         & 21583                                        & 성불사의 밤                                  & 강신성일                                     & 1970                                         & 505                                         \\\\\n",
       "\t21282 & 1833                                         & 16839                                        & 누가 용의 발톱을 보았는가                    & 강신성일                                     & 1991                                         & 505                                         \\\\\n",
       "\t21283 & 1833                                         & 10937                                        & 위기의 여자                                  & 강신성일                                     & 1987                                         & 505                                         \\\\\n",
       "\t21284 & 1833                                         & 21913                                        & 아편전쟁                                     & 강신성일                                     & 1964                                         & 505                                         \\\\\n",
       "\t21285 & 1833                                         & 20930                                        & 바람 (Wind)                                  & 강신성일                                     & 1969                                         & 505                                         \\\\\n",
       "\t21286 & 1833                                         & 22445                                        & 용서받기 싫다                                & 강신성일                                     & 1964                                         & 505                                         \\\\\n",
       "\t21287 & 1833                                         & 22262                                        & 연애 졸업반 (The Completion Of Love)         & 강신성일                                     & 1964                                         & 505                                         \\\\\n",
       "\t21288 & 1833                                         & 20496                                        & 댁의 부인은 어떠십니까 (How’s Your Wife?)   & 강신성일                                     & 1966                                         & 505                                         \\\\\n",
       "\t21289 & 1833                                         & 23248                                        & 총각김치 (총각김치)                          & 강신성일                                     & 1964                                         & 505                                         \\\\\n",
       "\t21290 & 1833                                         & 21854                                        & 아들 3형제                                   & 강신성일                                     & 1974                                         & 505                                         \\\\\n",
       "\t21291 & 1833                                         & 23099                                        & 찬란한 슬픔 (찬란한 슬픔)                    & 강신성일                                     & 1968                                         & 505                                         \\\\\n",
       "\t21292 & 1833                                         & 22108                                        & 언제나 타인                                  & 강신성일                                     & 1969                                         & 505                                         \\\\\n",
       "\t21293 & 1833                                         & 21288                                        & 사나이 가는 길에                             & 강신성일                                     & 1972                                         & 505                                         \\\\\n",
       "\t21294 & 1833                                         & 20699                                        & 마지막 날의 언약 (A Promise on the Last Day) & 강신성일                                     & 1979                                         & 505                                         \\\\\n",
       "\t21295 & 1833                                         & 22341                                        & 오백화                                       & 강신성일                                     & 1973                                         & 505                                         \\\\\n",
       "\t21296 & 1833                                         & 22033                                        & 양반전                                       & 강신성일                                     & 1966                                         & 505                                         \\\\\n",
       "\t21297 & 1833                                         & 22048                                        & 어느 하늘 아래서                             & 강신성일                                     & 1969                                         & 505                                         \\\\\n",
       "\t21298 & 1833                                         & 19822                                        & 광복 20년과 백범 김구                        & 강신성일                                     & 1973                                         & 505                                         \\\\\n",
       "\t21299 & 1833                                         & 22655                                        & 이별 (Farewell)                              & 강신성일                                     & 1973                                         & 505                                         \\\\\n",
       "\t21300 & 1833                                         & 21525                                        & 서울 흐림 한때 비                            & 강신성일                                     & 1986                                         & 505                                         \\\\\n",
       "\t21301 & 1833                                         & 20412                                        & 단골 손님                                    & 강신성일                                     & 1964                                         & 505                                         \\\\\n",
       "\t21302 & 1833                                         & 21013                                        & 백구야 훨훨 날지마라                         & 강신성일                                     & 1982                                         & 505                                         \\\\\n",
       "\t21303 & 1833                                         & 20922                                        & 밀회                                         & 강신성일                                     & 1965                                         & 505                                         \\\\\n",
       "\t21304 & 1833                                         & 22991                                        & 종점                                         & 강신성일                                     & 1966                                         & 505                                         \\\\\n",
       "\t21305 & 1833                                         & 21478                                        & 상속자                                       & 강신성일                                     & 1965                                         & 505                                         \\\\\n",
       "\t21306 & 1833                                         & 23366                                        & 탑골 아씨                                    & 강신성일                                     & 1970                                         & 505                                         \\\\\n",
       "\t21307 & 1833                                         & 23540                                        & 하숙생 (下宿生)                              & 강신성일                                     & 1966                                         & 505                                         \\\\\n",
       "\t21308 & 1833                                         & 14013                                        & 모래성                                       & 강신성일                                     & 1989                                         & 505                                         \\\\\n",
       "\t21309 & 1833                                         & 22822                                        & 장군의 수염 (The General's Mustache)         & 강신성일                                     & 1968                                         & 505                                         \\\\\n",
       "\t21310 & 1833                                         & 19732                                        & 격동                                         & 강신성일                                     & 1975                                         & 505                                         \\\\\n",
       "\\end{tabular}\n"
      ],
      "text/markdown": [
       "\n",
       "| <!--/--> | actorCode | movieCode | movieName | actorName | year | movieCnt | \n",
       "|---|---|---|---|---|---|---|---|---|---|---|---|---|---|---|---|---|---|---|---|---|---|---|---|---|---|---|---|---|---|---|---|---|---|---|---|---|---|---|---|---|---|---|---|---|---|---|---|---|---|---|---|---|---|---|---|---|---|---|---|---|\n",
       "| 20806 | 1833                                                          | 21884                                                         | 아무리 미워도                                                 | 강신성일                                                      | 1969                                                          | 505                                                           | \n",
       "| 20807 | 1833                                                          | 21904                                                         | 아스팔트 위의 여자                                            | 강신성일                                                      | 1978                                                          | 505                                                           | \n",
       "| 20808 | 1833                                                          | 19772                                                         | 고백                                                          | 강신성일                                                      | 1971                                                          | 505                                                           | \n",
       "| 20809 | 1833                                                          | 23201                                                         | 청춘 교실 (청춘교실)                                          | 강신성일                                                      | 1963                                                          | 505                                                           | \n",
       "| 20810 | 1833                                                          | 19897                                                         | 그 얼굴에 햇살을 (Sunshine of the face)                       | 강신성일                                                      | 1973                                                          | 505                                                           | \n",
       "| 20811 | 1833                                                          | 21566                                                         | 설원의 정                                                     | 강신성일                                                      | 1970                                                          | 505                                                           | \n",
       "| 20812 | 1833                                                          | 16194                                                         | 에미 (Woman Requiem)                                          | 강신성일                                                      | 1985                                                          | 505                                                           | \n",
       "| 20813 | 1833                                                          | 21561                                                         | 설녀                                                          | 강신성일                                                      | 1968                                                          | 505                                                           | \n",
       "| 20814 | 1833                                                          | 21911                                                         | 아파트의 여인                                                 | 강신성일                                                      | 1969                                                          | 505                                                           | \n",
       "| 20815 | 1833                                                          | 93833                                                         | 투 더 라스트 데이 (To the Last Day)                           | 강신성일                                                      | 1960                                                          | 505                                                           | \n",
       "| 20816 | 1833                                                          | 21467                                                         | 삼일천하                                                      | 강신성일                                                      | 1973                                                          | 505                                                           | \n",
       "| 20817 | 1833                                                          | 20458                                                         | 대륙의 밀사                                                   | 강신성일                                                      | 1964                                                          | 505                                                           | \n",
       "| 20818 | 1833                                                          | 22826                                                         | 장마루촌의 이발사                                             | 강신성일                                                      | 1969                                                          | 505                                                           | \n",
       "| 20819 | 1833                                                          | 20553                                                         | 돌아온 항구의 사나이                                          | 강신성일                                                      | 1970                                                          | 505                                                           | \n",
       "| 20820 | 1833                                                          | 22952                                                         | 제76포로수용소                                                | 강신성일                                                      | 1966                                                          | 505                                                           | \n",
       "| 20821 | 1833                                                          | 23547                                                         | 학녀                                                          | 강신성일                                                      | 1975                                                          | 505                                                           | \n",
       "| 20822 | 1833                                                          | 23004                                                         | 죽도록 보고 싶어                                              | 강신성일                                                      | 1965                                                          | 505                                                           | \n",
       "| 20823 | 1833                                                          | 23470                                                         | 폭로 (Disclosure)                                             | 강신성일                                                      | 1967                                                          | 505                                                           | \n",
       "| 20824 | 1833                                                          | 20470                                                         | 대전발 0시 50분                                               | 강신성일                                                      | 1963                                                          | 505                                                           | \n",
       "| 20825 | 1833                                                          | 21728                                                         | 승부                                                          | 강신성일                                                      | 1973                                                          | 505                                                           | \n",
       "| 20826 | 1833                                                          | 20252                                                         | 논개                                                          | 강신성일                                                      | 1972                                                          | 505                                                           | \n",
       "| 20827 | 1833                                                          | 21110                                                         | 봄, 여름, 가을 그리고 겨울 (Spring, Summer, Fall, And Winter) | 강신성일                                                      | 1971                                                          | 505                                                           | \n",
       "| 20828 | 1833                                                          | 19880                                                         | 귀부인 (Noble Lady)                                           | 강신성일                                                      | 1968                                                          | 505                                                           | \n",
       "| 20829 | 1833                                                          | 22470                                                         | 우리에게 내일은 있다                                          | 강신성일                                                      | 1976                                                          | 505                                                           | \n",
       "| 20830 | 1833                                                          | 22675                                                         | 이수일과 심순애                                               | 강신성일                                                      | NA                                                            | 505                                                           | \n",
       "| 20831 | 1833                                                          | 21730                                                         | 시댁                                                          | 강신성일                                                      | 1969                                                          | 505                                                           | \n",
       "| 20832 | 1833                                                          | 71685                                                         | 동방의 빛                                                     | 강신성일                                                      | 2010                                                          | 505                                                           | \n",
       "| 20833 | 1833                                                          | 21989                                                         | 애와 사                                                       | 강신성일                                                      | 1970                                                          | 505                                                           | \n",
       "| 20834 | 1833                                                          | 22271                                                         | 연인의 길                                                     | 강신성일                                                      | 1967                                                          | 505                                                           | \n",
       "| 20835 | 1833                                                          | 23539                                                         | 하숙 인생                                                     | 강신성일                                                      | 1973                                                          | 505                                                           | \n",
       "| ⋮ | ⋮ | ⋮ | ⋮ | ⋮ | ⋮ | ⋮ | \n",
       "| 21281 | 1833                                         | 21583                                        | 성불사의 밤                                  | 강신성일                                     | 1970                                         | 505                                          | \n",
       "| 21282 | 1833                                         | 16839                                        | 누가 용의 발톱을 보았는가                    | 강신성일                                     | 1991                                         | 505                                          | \n",
       "| 21283 | 1833                                         | 10937                                        | 위기의 여자                                  | 강신성일                                     | 1987                                         | 505                                          | \n",
       "| 21284 | 1833                                         | 21913                                        | 아편전쟁                                     | 강신성일                                     | 1964                                         | 505                                          | \n",
       "| 21285 | 1833                                         | 20930                                        | 바람 (Wind)                                  | 강신성일                                     | 1969                                         | 505                                          | \n",
       "| 21286 | 1833                                         | 22445                                        | 용서받기 싫다                                | 강신성일                                     | 1964                                         | 505                                          | \n",
       "| 21287 | 1833                                         | 22262                                        | 연애 졸업반 (The Completion Of Love)         | 강신성일                                     | 1964                                         | 505                                          | \n",
       "| 21288 | 1833                                         | 20496                                        | 댁의 부인은 어떠십니까 (How’s Your Wife?)   | 강신성일                                     | 1966                                         | 505                                          | \n",
       "| 21289 | 1833                                         | 23248                                        | 총각김치 (총각김치)                          | 강신성일                                     | 1964                                         | 505                                          | \n",
       "| 21290 | 1833                                         | 21854                                        | 아들 3형제                                   | 강신성일                                     | 1974                                         | 505                                          | \n",
       "| 21291 | 1833                                         | 23099                                        | 찬란한 슬픔 (찬란한 슬픔)                    | 강신성일                                     | 1968                                         | 505                                          | \n",
       "| 21292 | 1833                                         | 22108                                        | 언제나 타인                                  | 강신성일                                     | 1969                                         | 505                                          | \n",
       "| 21293 | 1833                                         | 21288                                        | 사나이 가는 길에                             | 강신성일                                     | 1972                                         | 505                                          | \n",
       "| 21294 | 1833                                         | 20699                                        | 마지막 날의 언약 (A Promise on the Last Day) | 강신성일                                     | 1979                                         | 505                                          | \n",
       "| 21295 | 1833                                         | 22341                                        | 오백화                                       | 강신성일                                     | 1973                                         | 505                                          | \n",
       "| 21296 | 1833                                         | 22033                                        | 양반전                                       | 강신성일                                     | 1966                                         | 505                                          | \n",
       "| 21297 | 1833                                         | 22048                                        | 어느 하늘 아래서                             | 강신성일                                     | 1969                                         | 505                                          | \n",
       "| 21298 | 1833                                         | 19822                                        | 광복 20년과 백범 김구                        | 강신성일                                     | 1973                                         | 505                                          | \n",
       "| 21299 | 1833                                         | 22655                                        | 이별 (Farewell)                              | 강신성일                                     | 1973                                         | 505                                          | \n",
       "| 21300 | 1833                                         | 21525                                        | 서울 흐림 한때 비                            | 강신성일                                     | 1986                                         | 505                                          | \n",
       "| 21301 | 1833                                         | 20412                                        | 단골 손님                                    | 강신성일                                     | 1964                                         | 505                                          | \n",
       "| 21302 | 1833                                         | 21013                                        | 백구야 훨훨 날지마라                         | 강신성일                                     | 1982                                         | 505                                          | \n",
       "| 21303 | 1833                                         | 20922                                        | 밀회                                         | 강신성일                                     | 1965                                         | 505                                          | \n",
       "| 21304 | 1833                                         | 22991                                        | 종점                                         | 강신성일                                     | 1966                                         | 505                                          | \n",
       "| 21305 | 1833                                         | 21478                                        | 상속자                                       | 강신성일                                     | 1965                                         | 505                                          | \n",
       "| 21306 | 1833                                         | 23366                                        | 탑골 아씨                                    | 강신성일                                     | 1970                                         | 505                                          | \n",
       "| 21307 | 1833                                         | 23540                                        | 하숙생 (下宿生)                              | 강신성일                                     | 1966                                         | 505                                          | \n",
       "| 21308 | 1833                                         | 14013                                        | 모래성                                       | 강신성일                                     | 1989                                         | 505                                          | \n",
       "| 21309 | 1833                                         | 22822                                        | 장군의 수염 (The General's Mustache)         | 강신성일                                     | 1968                                         | 505                                          | \n",
       "| 21310 | 1833                                         | 19732                                        | 격동                                         | 강신성일                                     | 1975                                         | 505                                          | \n",
       "\n",
       "\n"
      ],
      "text/plain": [
       "      actorCode movieCode\n",
       "20806 1833      21884    \n",
       "20807 1833      21904    \n",
       "20808 1833      19772    \n",
       "20809 1833      23201    \n",
       "20810 1833      19897    \n",
       "20811 1833      21566    \n",
       "20812 1833      16194    \n",
       "20813 1833      21561    \n",
       "20814 1833      21911    \n",
       "20815 1833      93833    \n",
       "20816 1833      21467    \n",
       "20817 1833      20458    \n",
       "20818 1833      22826    \n",
       "20819 1833      20553    \n",
       "20820 1833      22952    \n",
       "20821 1833      23547    \n",
       "20822 1833      23004    \n",
       "20823 1833      23470    \n",
       "20824 1833      20470    \n",
       "20825 1833      21728    \n",
       "20826 1833      20252    \n",
       "20827 1833      21110    \n",
       "20828 1833      19880    \n",
       "20829 1833      22470    \n",
       "20830 1833      22675    \n",
       "20831 1833      21730    \n",
       "20832 1833      71685    \n",
       "20833 1833      21989    \n",
       "20834 1833      22271    \n",
       "20835 1833      23539    \n",
       "⋮     ⋮         ⋮        \n",
       "21281 1833      21583    \n",
       "21282 1833      16839    \n",
       "21283 1833      10937    \n",
       "21284 1833      21913    \n",
       "21285 1833      20930    \n",
       "21286 1833      22445    \n",
       "21287 1833      22262    \n",
       "21288 1833      20496    \n",
       "21289 1833      23248    \n",
       "21290 1833      21854    \n",
       "21291 1833      23099    \n",
       "21292 1833      22108    \n",
       "21293 1833      21288    \n",
       "21294 1833      20699    \n",
       "21295 1833      22341    \n",
       "21296 1833      22033    \n",
       "21297 1833      22048    \n",
       "21298 1833      19822    \n",
       "21299 1833      22655    \n",
       "21300 1833      21525    \n",
       "21301 1833      20412    \n",
       "21302 1833      21013    \n",
       "21303 1833      20922    \n",
       "21304 1833      22991    \n",
       "21305 1833      21478    \n",
       "21306 1833      23366    \n",
       "21307 1833      23540    \n",
       "21308 1833      14013    \n",
       "21309 1833      22822    \n",
       "21310 1833      19732    \n",
       "      movieName                                                     actorName\n",
       "20806 아무리 미워도                                                 강신성일 \n",
       "20807 아스팔트 위의 여자                                            강신성일 \n",
       "20808 고백                                                          강신성일 \n",
       "20809 청춘 교실 (청춘교실)                                          강신성일 \n",
       "20810 그 얼굴에 햇살을 (Sunshine of the face)                       강신성일 \n",
       "20811 설원의 정                                                     강신성일 \n",
       "20812 에미 (Woman Requiem)                                          강신성일 \n",
       "20813 설녀                                                          강신성일 \n",
       "20814 아파트의 여인                                                 강신성일 \n",
       "20815 투 더 라스트 데이 (To the Last Day)                           강신성일 \n",
       "20816 삼일천하                                                      강신성일 \n",
       "20817 대륙의 밀사                                                   강신성일 \n",
       "20818 장마루촌의 이발사                                             강신성일 \n",
       "20819 돌아온 항구의 사나이                                          강신성일 \n",
       "20820 제76포로수용소                                                강신성일 \n",
       "20821 학녀                                                          강신성일 \n",
       "20822 죽도록 보고 싶어                                              강신성일 \n",
       "20823 폭로 (Disclosure)                                             강신성일 \n",
       "20824 대전발 0시 50분                                               강신성일 \n",
       "20825 승부                                                          강신성일 \n",
       "20826 논개                                                          강신성일 \n",
       "20827 봄, 여름, 가을 그리고 겨울 (Spring, Summer, Fall, And Winter) 강신성일 \n",
       "20828 귀부인 (Noble Lady)                                           강신성일 \n",
       "20829 우리에게 내일은 있다                                          강신성일 \n",
       "20830 이수일과 심순애                                               강신성일 \n",
       "20831 시댁                                                          강신성일 \n",
       "20832 동방의 빛                                                     강신성일 \n",
       "20833 애와 사                                                       강신성일 \n",
       "20834 연인의 길                                                     강신성일 \n",
       "20835 하숙 인생                                                     강신성일 \n",
       "⋮     ⋮                                                             ⋮        \n",
       "21281 성불사의 밤                                                   강신성일 \n",
       "21282 누가 용의 발톱을 보았는가                                     강신성일 \n",
       "21283 위기의 여자                                                   강신성일 \n",
       "21284 아편전쟁                                                      강신성일 \n",
       "21285 바람 (Wind)                                                   강신성일 \n",
       "21286 용서받기 싫다                                                 강신성일 \n",
       "21287 연애 졸업반 (The Completion Of Love)                          강신성일 \n",
       "21288 댁의 부인은 어떠십니까 (How’s Your Wife?)                    강신성일 \n",
       "21289 총각김치 (총각김치)                                           강신성일 \n",
       "21290 아들 3형제                                                    강신성일 \n",
       "21291 찬란한 슬픔 (찬란한 슬픔)                                     강신성일 \n",
       "21292 언제나 타인                                                   강신성일 \n",
       "21293 사나이 가는 길에                                              강신성일 \n",
       "21294 마지막 날의 언약 (A Promise on the Last Day)                  강신성일 \n",
       "21295 오백화                                                        강신성일 \n",
       "21296 양반전                                                        강신성일 \n",
       "21297 어느 하늘 아래서                                              강신성일 \n",
       "21298 광복 20년과 백범 김구                                         강신성일 \n",
       "21299 이별 (Farewell)                                               강신성일 \n",
       "21300 서울 흐림 한때 비                                             강신성일 \n",
       "21301 단골 손님                                                     강신성일 \n",
       "21302 백구야 훨훨 날지마라                                          강신성일 \n",
       "21303 밀회                                                          강신성일 \n",
       "21304 종점                                                          강신성일 \n",
       "21305 상속자                                                        강신성일 \n",
       "21306 탑골 아씨                                                     강신성일 \n",
       "21307 하숙생 (下宿生)                                               강신성일 \n",
       "21308 모래성                                                        강신성일 \n",
       "21309 장군의 수염 (The General's Mustache)                          강신성일 \n",
       "21310 격동                                                          강신성일 \n",
       "      year movieCnt\n",
       "20806 1969 505     \n",
       "20807 1978 505     \n",
       "20808 1971 505     \n",
       "20809 1963 505     \n",
       "20810 1973 505     \n",
       "20811 1970 505     \n",
       "20812 1985 505     \n",
       "20813 1968 505     \n",
       "20814 1969 505     \n",
       "20815 1960 505     \n",
       "20816 1973 505     \n",
       "20817 1964 505     \n",
       "20818 1969 505     \n",
       "20819 1970 505     \n",
       "20820 1966 505     \n",
       "20821 1975 505     \n",
       "20822 1965 505     \n",
       "20823 1967 505     \n",
       "20824 1963 505     \n",
       "20825 1973 505     \n",
       "20826 1972 505     \n",
       "20827 1971 505     \n",
       "20828 1968 505     \n",
       "20829 1976 505     \n",
       "20830 NA   505     \n",
       "20831 1969 505     \n",
       "20832 2010 505     \n",
       "20833 1970 505     \n",
       "20834 1967 505     \n",
       "20835 1973 505     \n",
       "⋮     ⋮    ⋮       \n",
       "21281 1970 505     \n",
       "21282 1991 505     \n",
       "21283 1987 505     \n",
       "21284 1964 505     \n",
       "21285 1969 505     \n",
       "21286 1964 505     \n",
       "21287 1964 505     \n",
       "21288 1966 505     \n",
       "21289 1964 505     \n",
       "21290 1974 505     \n",
       "21291 1968 505     \n",
       "21292 1969 505     \n",
       "21293 1972 505     \n",
       "21294 1979 505     \n",
       "21295 1973 505     \n",
       "21296 1966 505     \n",
       "21297 1969 505     \n",
       "21298 1973 505     \n",
       "21299 1973 505     \n",
       "21300 1986 505     \n",
       "21301 1964 505     \n",
       "21302 1982 505     \n",
       "21303 1965 505     \n",
       "21304 1966 505     \n",
       "21305 1965 505     \n",
       "21306 1970 505     \n",
       "21307 1966 505     \n",
       "21308 1989 505     \n",
       "21309 1968 505     \n",
       "21310 1975 505     "
      ]
     },
     "metadata": {},
     "output_type": "display_data"
    }
   ],
   "source": [
    "# 가장 많은 영화를 찍은 배우의 출연작 리스트\n",
    "df[df$movieCnt == max(df$movieCnt),]\n",
    "\n",
    "# 우리나라에서 가장 많은 영화를 찍은 배우는 총 505편의 영화를 찍은 '강신성일'"
   ]
  },
  {
   "cell_type": "code",
   "execution_count": 14,
   "metadata": {
    "scrolled": false,
    "slideshow": {
     "slide_type": "slide"
    }
   },
   "outputs": [
    {
     "data": {
      "text/html": [
       "<table>\n",
       "<thead><tr><th></th><th scope=col>actorCode</th><th scope=col>actorName</th><th scope=col>movieCnt</th></tr></thead>\n",
       "<tbody>\n",
       "\t<tr><th scope=row>20806</th><td>1833    </td><td>강신성일</td><td>505     </td></tr>\n",
       "\t<tr><th scope=row>18565</th><td>1753    </td><td>김지미  </td><td>343     </td></tr>\n",
       "\t<tr><th scope=row>33247</th><td>29349   </td><td>박노식  </td><td>318     </td></tr>\n",
       "\t<tr><th scope=row>21790</th><td>18477   </td><td>신영균  </td><td>296     </td></tr>\n",
       "\t<tr><th scope=row>11810</th><td>15267   </td><td>김진규  </td><td>290     </td></tr>\n",
       "\t<tr><th scope=row>32239</th><td>2808    </td><td>허장강  </td><td>275     </td></tr>\n",
       "\t<tr><th scope=row>38564</th><td>3191    </td><td>남궁원  </td><td>264     </td></tr>\n",
       "\t<tr><th scope=row>67628</th><td>4264    </td><td>윤정희  </td><td>247     </td></tr>\n",
       "\t<tr><th scope=row>24948</th><td>2011    </td><td>최무룡  </td><td>240     </td></tr>\n",
       "\t<tr><th scope=row>61545</th><td>40872   </td><td>김승호  </td><td>228     </td></tr>\n",
       "\t<tr><th scope=row>85957</th><td>5763    </td><td>황정순  </td><td>223     </td></tr>\n",
       "\t<tr><th scope=row>104609</th><td>8350    </td><td>남정임  </td><td>212     </td></tr>\n",
       "\t<tr><th scope=row>13005</th><td>15633   </td><td>문희    </td><td>209     </td></tr>\n",
       "\t<tr><th scope=row>95886</th><td>7137    </td><td>이순재  </td><td>207     </td></tr>\n",
       "\t<tr><th scope=row>8795</th><td>13914   </td><td>박암    </td><td>191     </td></tr>\n",
       "\t<tr><th scope=row>39294</th><td>3213    </td><td>박근형  </td><td>189     </td></tr>\n",
       "\t<tr><th scope=row>1579</th><td>10987   </td><td>도금봉  </td><td>188     </td></tr>\n",
       "\t<tr><th scope=row>92644</th><td>6688    </td><td>장동휘  </td><td>187     </td></tr>\n",
       "\t<tr><th scope=row>61334</th><td>40869   </td><td>최남현  </td><td>182     </td></tr>\n",
       "\t<tr><th scope=row>97552</th><td>7249    </td><td>김희갑  </td><td>182     </td></tr>\n",
       "</tbody>\n",
       "</table>\n"
      ],
      "text/latex": [
       "\\begin{tabular}{r|lll}\n",
       "  & actorCode & actorName & movieCnt\\\\\n",
       "\\hline\n",
       "\t20806 & 1833     & 강신성일 & 505     \\\\\n",
       "\t18565 & 1753     & 김지미   & 343     \\\\\n",
       "\t33247 & 29349    & 박노식   & 318     \\\\\n",
       "\t21790 & 18477    & 신영균   & 296     \\\\\n",
       "\t11810 & 15267    & 김진규   & 290     \\\\\n",
       "\t32239 & 2808     & 허장강   & 275     \\\\\n",
       "\t38564 & 3191     & 남궁원   & 264     \\\\\n",
       "\t67628 & 4264     & 윤정희   & 247     \\\\\n",
       "\t24948 & 2011     & 최무룡   & 240     \\\\\n",
       "\t61545 & 40872    & 김승호   & 228     \\\\\n",
       "\t85957 & 5763     & 황정순   & 223     \\\\\n",
       "\t104609 & 8350     & 남정임   & 212     \\\\\n",
       "\t13005 & 15633    & 문희     & 209     \\\\\n",
       "\t95886 & 7137     & 이순재   & 207     \\\\\n",
       "\t8795 & 13914    & 박암     & 191     \\\\\n",
       "\t39294 & 3213     & 박근형   & 189     \\\\\n",
       "\t1579 & 10987    & 도금봉   & 188     \\\\\n",
       "\t92644 & 6688     & 장동휘   & 187     \\\\\n",
       "\t61334 & 40869    & 최남현   & 182     \\\\\n",
       "\t97552 & 7249     & 김희갑   & 182     \\\\\n",
       "\\end{tabular}\n"
      ],
      "text/markdown": [
       "\n",
       "| <!--/--> | actorCode | actorName | movieCnt | \n",
       "|---|---|---|---|---|---|---|---|---|---|---|---|---|---|---|---|---|---|---|---|\n",
       "| 20806 | 1833     | 강신성일 | 505      | \n",
       "| 18565 | 1753     | 김지미   | 343      | \n",
       "| 33247 | 29349    | 박노식   | 318      | \n",
       "| 21790 | 18477    | 신영균   | 296      | \n",
       "| 11810 | 15267    | 김진규   | 290      | \n",
       "| 32239 | 2808     | 허장강   | 275      | \n",
       "| 38564 | 3191     | 남궁원   | 264      | \n",
       "| 67628 | 4264     | 윤정희   | 247      | \n",
       "| 24948 | 2011     | 최무룡   | 240      | \n",
       "| 61545 | 40872    | 김승호   | 228      | \n",
       "| 85957 | 5763     | 황정순   | 223      | \n",
       "| 104609 | 8350     | 남정임   | 212      | \n",
       "| 13005 | 15633    | 문희     | 209      | \n",
       "| 95886 | 7137     | 이순재   | 207      | \n",
       "| 8795 | 13914    | 박암     | 191      | \n",
       "| 39294 | 3213     | 박근형   | 189      | \n",
       "| 1579 | 10987    | 도금봉   | 188      | \n",
       "| 92644 | 6688     | 장동휘   | 187      | \n",
       "| 61334 | 40869    | 최남현   | 182      | \n",
       "| 97552 | 7249     | 김희갑   | 182      | \n",
       "\n",
       "\n"
      ],
      "text/plain": [
       "       actorCode actorName movieCnt\n",
       "20806  1833      강신성일  505     \n",
       "18565  1753      김지미    343     \n",
       "33247  29349     박노식    318     \n",
       "21790  18477     신영균    296     \n",
       "11810  15267     김진규    290     \n",
       "32239  2808      허장강    275     \n",
       "38564  3191      남궁원    264     \n",
       "67628  4264      윤정희    247     \n",
       "24948  2011      최무룡    240     \n",
       "61545  40872     김승호    228     \n",
       "85957  5763      황정순    223     \n",
       "104609 8350      남정임    212     \n",
       "13005  15633     문희      209     \n",
       "95886  7137      이순재    207     \n",
       "8795   13914     박암      191     \n",
       "39294  3213      박근형    189     \n",
       "1579   10987     도금봉    188     \n",
       "92644  6688      장동휘    187     \n",
       "61334  40869     최남현    182     \n",
       "97552  7249      김희갑    182     "
      ]
     },
     "metadata": {},
     "output_type": "display_data"
    }
   ],
   "source": [
    "# 배우별 출연한 영화수 확인\n",
    "actors <- df[, c(1,4,6)]\n",
    "\n",
    "# 중복 제거 \n",
    "actors <- unique(actors)\n",
    "\n",
    "# 출연 영화수 기준으로 내림차순 정렬\n",
    "actors <- actors[order(actors$movieCnt, \n",
    "                       decreasing = TRUE),]\n",
    "\n",
    "# 상위 20명만 확인\n",
    "head(actors, 20L)\n",
    "\n",
    "# 모두 옛날 배우들!! \n",
    "# 지금까지 활동 중인 배우는 '이순재, 박근형' 정도"
   ]
  },
  {
   "cell_type": "code",
   "execution_count": 15,
   "metadata": {
    "slideshow": {
     "slide_type": "slide"
    }
   },
   "outputs": [
    {
     "data": {
      "text/html": [
       "26425"
      ],
      "text/latex": [
       "26425"
      ],
      "text/markdown": [
       "26425"
      ],
      "text/plain": [
       "[1] 26425"
      ]
     },
     "metadata": {},
     "output_type": "display_data"
    },
    {
     "data": {
      "text/html": [
       "2412"
      ],
      "text/latex": [
       "2412"
      ],
      "text/markdown": [
       "2412"
      ],
      "text/plain": [
       "[1] 2412"
      ]
     },
     "metadata": {},
     "output_type": "display_data"
    }
   ],
   "source": [
    "# 총 배우수 확인 (26425명)\n",
    "nrow(actors)\n",
    "\n",
    "# 출연한 영화수가 10편 이상인 배우수만 확인 (2412명)\n",
    "nrow(actors[actors$movieCnt >= 10,])"
   ]
  },
  {
   "cell_type": "code",
   "execution_count": 16,
   "metadata": {
    "slideshow": {
     "slide_type": "slide"
    }
   },
   "outputs": [
    {
     "data": {
      "text/html": [
       "64679"
      ],
      "text/latex": [
       "64679"
      ],
      "text/markdown": [
       "64679"
      ],
      "text/plain": [
       "[1] 64679"
      ]
     },
     "metadata": {},
     "output_type": "display_data"
    }
   ],
   "source": [
    "# 출연한 영화수가 10편 이상인 배우만 남기기\n",
    "df1 <- df[df$movieCnt >= 10,]\n",
    "\n",
    "# 중복을 포함한 데이터 프레임 행(영화) 개수 확인\n",
    "nrow(df1)"
   ]
  },
  {
   "cell_type": "code",
   "execution_count": 17,
   "metadata": {
    "scrolled": true,
    "slideshow": {
     "slide_type": "slide"
    }
   },
   "outputs": [
    {
     "data": {
      "text/html": [
       "<table>\n",
       "<thead><tr><th scope=col>movieCode</th><th scope=col>movieName</th><th scope=col>actorCnt</th></tr></thead>\n",
       "<tbody>\n",
       "\t<tr><td>55758                          </td><td>...에 묻다 (...To Ask)         </td><td> 1                             </td></tr>\n",
       "\t<tr><td>33651                          </td><td>...한 후에 (Thereafter...)     </td><td> 1                             </td></tr>\n",
       "\t<tr><td>36957                          </td><td>...ing                         </td><td> 6                             </td></tr>\n",
       "\t<tr><td>131943                         </td><td>'CHE'CK                        </td><td> 1                             </td></tr>\n",
       "\t<tr><td>40028                          </td><td>@골뱅이                        </td><td>15                             </td></tr>\n",
       "\t<tr><td>41338                          </td><td>007 폭소 대작전                </td><td> 5                             </td></tr>\n",
       "\t<tr><td>29688                          </td><td>01412 파사신검 (01412 破邪神劍)</td><td> 3                             </td></tr>\n",
       "\t<tr><td>145119                         </td><td>0시의 그녀                     </td><td> 2                             </td></tr>\n",
       "\t<tr><td>22301                          </td><td>0시의 부르스                   </td><td> 3                             </td></tr>\n",
       "\t<tr><td>22292                          </td><td>0시의 호텔 (Hotel At 00:00)    </td><td>16                             </td></tr>\n",
       "</tbody>\n",
       "</table>\n"
      ],
      "text/latex": [
       "\\begin{tabular}{r|lll}\n",
       " movieCode & movieName & actorCnt\\\\\n",
       "\\hline\n",
       "\t 55758                           & ...에 묻다 (...To Ask)          &  1                             \\\\\n",
       "\t 33651                           & ...한 후에 (Thereafter...)      &  1                             \\\\\n",
       "\t 36957                           & ...ing                          &  6                             \\\\\n",
       "\t 131943                          & 'CHE'CK                         &  1                             \\\\\n",
       "\t 40028                           & @골뱅이                         & 15                             \\\\\n",
       "\t 41338                           & 007 폭소 대작전                 &  5                             \\\\\n",
       "\t 29688                           & 01412 파사신검 (01412 破邪神劍) &  3                             \\\\\n",
       "\t 145119                          & 0시의 그녀                      &  2                             \\\\\n",
       "\t 22301                           & 0시의 부르스                    &  3                             \\\\\n",
       "\t 22292                           & 0시의 호텔 (Hotel At 00:00)     & 16                             \\\\\n",
       "\\end{tabular}\n"
      ],
      "text/markdown": [
       "\n",
       "movieCode | movieName | actorCnt | \n",
       "|---|---|---|---|---|---|---|---|---|---|\n",
       "| 55758                           | ...에 묻다 (...To Ask)          |  1                              | \n",
       "| 33651                           | ...한 후에 (Thereafter...)      |  1                              | \n",
       "| 36957                           | ...ing                          |  6                              | \n",
       "| 131943                          | 'CHE'CK                         |  1                              | \n",
       "| 40028                           | @골뱅이                         | 15                              | \n",
       "| 41338                           | 007 폭소 대작전                 |  5                              | \n",
       "| 29688                           | 01412 파사신검 (01412 破邪神劍) |  3                              | \n",
       "| 145119                          | 0시의 그녀                      |  2                              | \n",
       "| 22301                           | 0시의 부르스                    |  3                              | \n",
       "| 22292                           | 0시의 호텔 (Hotel At 00:00)     | 16                              | \n",
       "\n",
       "\n"
      ],
      "text/plain": [
       "   movieCode movieName                       actorCnt\n",
       "1  55758     ...에 묻다 (...To Ask)           1      \n",
       "2  33651     ...한 후에 (Thereafter...)       1      \n",
       "3  36957     ...ing                           6      \n",
       "4  131943    'CHE'CK                          1      \n",
       "5  40028     @골뱅이                         15      \n",
       "6  41338     007 폭소 대작전                  5      \n",
       "7  29688     01412 파사신검 (01412 破邪神劍)  3      \n",
       "8  145119    0시의 그녀                       2      \n",
       "9  22301     0시의 부르스                     3      \n",
       "10 22292     0시의 호텔 (Hotel At 00:00)     16      "
      ]
     },
     "metadata": {},
     "output_type": "display_data"
    }
   ],
   "source": [
    "# 영화별 출연 배우수 컬럼 생성\n",
    "numActor <- aggregate(x = df1$actorCode, \n",
    "                      by = list(df1$movieCode, df1$movieName), \n",
    "                      FUN = length)\n",
    "\n",
    "# 컬럼명 바꾸기\n",
    "colnames(numActor) <- c(\"movieCode\",\"movieName\",\"actorCnt\")\n",
    "\n",
    "# 첫 10줄만 확인\n",
    "head(numActor, 10L)"
   ]
  },
  {
   "cell_type": "code",
   "execution_count": 18,
   "metadata": {
    "slideshow": {
     "slide_type": "slide"
    }
   },
   "outputs": [
    {
     "data": {
      "text/plain": [
       "\n",
       "   1    2    3    4    5    6    7    8    9   10   11   12   13   14   15   16 \n",
       "2506 3734 6567 6476 3805 3402 3717 4112 3483 3500 3443 2832 2405 2268 2055 1744 \n",
       "  17   18   19   20   21   22   23   24   25   26   27   28   29   30   31   32 \n",
       "1394 1224  969  600  546  550  345  264  200  364  162  168  116  150   62   96 \n",
       "  33   34   35   36   38   41   42   44   45   46   48   49   50   54   55   65 \n",
       " 198  102   70  108   76   82   42   44   45  138   48   49   50   54  110   65 \n",
       "  68   71 \n",
       "  68   71 "
      ]
     },
     "metadata": {},
     "output_type": "display_data"
    }
   ],
   "source": [
    "# 전체 데이터에 병합\n",
    "df1 <- merge(x = df1, \n",
    "             y = numActor[,c(1,3)], \n",
    "             by = \"movieCode\",\n",
    "             all.x = TRUE)\n",
    "\n",
    "# 영화별 배우수 빈도 확인\n",
    "table(df1$actorCnt, useNA = \"ifany\")"
   ]
  },
  {
   "cell_type": "code",
   "execution_count": 19,
   "metadata": {
    "scrolled": true,
    "slideshow": {
     "slide_type": "slide"
    }
   },
   "outputs": [
    {
     "data": {
      "text/html": [
       "<table>\n",
       "<thead><tr><th></th><th scope=col>movieCode</th><th scope=col>actorCode</th><th scope=col>movieName</th><th scope=col>actorName</th><th scope=col>year</th><th scope=col>movieCnt</th><th scope=col>actorCnt</th></tr></thead>\n",
       "<tbody>\n",
       "\t<tr><th scope=row>32773</th><td>23841    </td><td>7234     </td><td>용의 눈물</td><td>김성찬   </td><td>1996     </td><td>22       </td><td>71       </td></tr>\n",
       "\t<tr><th scope=row>32774</th><td>23841    </td><td>43606    </td><td>용의 눈물</td><td>장성원   </td><td>1996     </td><td>12       </td><td>71       </td></tr>\n",
       "\t<tr><th scope=row>32775</th><td>23841    </td><td>6458     </td><td>용의 눈물</td><td>남일우   </td><td>1996     </td><td>37       </td><td>71       </td></tr>\n",
       "\t<tr><th scope=row>32776</th><td>23841    </td><td>42434    </td><td>용의 눈물</td><td>손호균   </td><td>1996     </td><td>18       </td><td>71       </td></tr>\n",
       "\t<tr><th scope=row>32777</th><td>23841    </td><td>7207     </td><td>용의 눈물</td><td>강태기   </td><td>1996     </td><td>33       </td><td>71       </td></tr>\n",
       "\t<tr><th scope=row>32778</th><td>23841    </td><td>3179     </td><td>용의 눈물</td><td>이민우   </td><td>1996     </td><td>41       </td><td>71       </td></tr>\n",
       "\t<tr><th scope=row>32779</th><td>23841    </td><td>48545    </td><td>용의 눈물</td><td>안연홍   </td><td>1996     </td><td>31       </td><td>71       </td></tr>\n",
       "\t<tr><th scope=row>32780</th><td>23841    </td><td>40014    </td><td>용의 눈물</td><td>신동훈   </td><td>1996     </td><td>13       </td><td>71       </td></tr>\n",
       "\t<tr><th scope=row>32781</th><td>23841    </td><td>7661     </td><td>용의 눈물</td><td>이상인   </td><td>1996     </td><td>12       </td><td>71       </td></tr>\n",
       "\t<tr><th scope=row>32782</th><td>23841    </td><td>2966     </td><td>용의 눈물</td><td>장인한   </td><td>1996     </td><td>36       </td><td>71       </td></tr>\n",
       "\t<tr><th scope=row>32783</th><td>23841    </td><td>6410     </td><td>용의 눈물</td><td>유동근   </td><td>1996     </td><td>51       </td><td>71       </td></tr>\n",
       "\t<tr><th scope=row>32784</th><td>23841    </td><td>46285    </td><td>용의 눈물</td><td>강인덕   </td><td>1996     </td><td>30       </td><td>71       </td></tr>\n",
       "\t<tr><th scope=row>32785</th><td>23841    </td><td>1828     </td><td>용의 눈물</td><td>송윤아   </td><td>1996     </td><td>32       </td><td>71       </td></tr>\n",
       "\t<tr><th scope=row>32786</th><td>23841    </td><td>40125    </td><td>용의 눈물</td><td>서범식   </td><td>1996     </td><td>16       </td><td>71       </td></tr>\n",
       "\t<tr><th scope=row>32787</th><td>23841    </td><td>60233    </td><td>용의 눈물</td><td>김광영   </td><td>1996     </td><td>11       </td><td>71       </td></tr>\n",
       "\t<tr><th scope=row>32788</th><td>23841    </td><td>2028     </td><td>용의 눈물</td><td>하지원   </td><td>1996     </td><td>37       </td><td>71       </td></tr>\n",
       "\t<tr><th scope=row>32789</th><td>23841    </td><td>41175    </td><td>용의 눈물</td><td>문창길   </td><td>1996     </td><td>27       </td><td>71       </td></tr>\n",
       "\t<tr><th scope=row>32790</th><td>23841    </td><td>7964     </td><td>용의 눈물</td><td>김흥기   </td><td>1996     </td><td>27       </td><td>71       </td></tr>\n",
       "\t<tr><th scope=row>32791</th><td>23841    </td><td>49867    </td><td>용의 눈물</td><td>신귀식   </td><td>1996     </td><td>16       </td><td>71       </td></tr>\n",
       "\t<tr><th scope=row>32792</th><td>23841    </td><td>7343     </td><td>용의 눈물</td><td>최명길   </td><td>1996     </td><td>42       </td><td>71       </td></tr>\n",
       "\t<tr><th scope=row>32793</th><td>23841    </td><td>38279    </td><td>용의 눈물</td><td>박웅     </td><td>1996     </td><td>25       </td><td>71       </td></tr>\n",
       "\t<tr><th scope=row>32794</th><td>23841    </td><td>7117     </td><td>용의 눈물</td><td>이보희   </td><td>1996     </td><td>61       </td><td>71       </td></tr>\n",
       "\t<tr><th scope=row>32795</th><td>23841    </td><td>7614     </td><td>용의 눈물</td><td>한태일   </td><td>1996     </td><td>57       </td><td>71       </td></tr>\n",
       "\t<tr><th scope=row>32796</th><td>23841    </td><td>5665     </td><td>용의 눈물</td><td>안재모   </td><td>1996     </td><td>37       </td><td>71       </td></tr>\n",
       "\t<tr><th scope=row>32797</th><td>23841    </td><td>5063     </td><td>용의 눈물</td><td>최동준   </td><td>1996     </td><td>32       </td><td>71       </td></tr>\n",
       "\t<tr><th scope=row>32798</th><td>23841    </td><td>32096    </td><td>용의 눈물</td><td>허정민   </td><td>1996     </td><td>24       </td><td>71       </td></tr>\n",
       "\t<tr><th scope=row>32799</th><td>23841    </td><td>12059    </td><td>용의 눈물</td><td>손종범   </td><td>1996     </td><td>21       </td><td>71       </td></tr>\n",
       "\t<tr><th scope=row>32800</th><td>23841    </td><td>325      </td><td>용의 눈물</td><td>박진성   </td><td>1996     </td><td>14       </td><td>71       </td></tr>\n",
       "\t<tr><th scope=row>32801</th><td>23841    </td><td>13900    </td><td>용의 눈물</td><td>이종만   </td><td>1996     </td><td>21       </td><td>71       </td></tr>\n",
       "\t<tr><th scope=row>32802</th><td>23841    </td><td>37193    </td><td>용의 눈물</td><td>김주영   </td><td>1996     </td><td>28       </td><td>71       </td></tr>\n",
       "\t<tr><th scope=row>⋮</th><td>⋮</td><td>⋮</td><td>⋮</td><td>⋮</td><td>⋮</td><td>⋮</td><td>⋮</td></tr>\n",
       "\t<tr><th scope=row>32814</th><td>23841    </td><td>17342    </td><td>용의 눈물</td><td>김영란   </td><td>1996     </td><td> 67      </td><td>71       </td></tr>\n",
       "\t<tr><th scope=row>32815</th><td>23841    </td><td>37645    </td><td>용의 눈물</td><td>박상조   </td><td>1996     </td><td> 13      </td><td>71       </td></tr>\n",
       "\t<tr><th scope=row>32816</th><td>23841    </td><td>5546     </td><td>용의 눈물</td><td>이원종   </td><td>1996     </td><td> 65      </td><td>71       </td></tr>\n",
       "\t<tr><th scope=row>32817</th><td>23841    </td><td>48544    </td><td>용의 눈물</td><td>임혁     </td><td>1996     </td><td> 38      </td><td>71       </td></tr>\n",
       "\t<tr><th scope=row>32818</th><td>23841    </td><td>41068    </td><td>용의 눈물</td><td>김을동   </td><td>1996     </td><td> 38      </td><td>71       </td></tr>\n",
       "\t<tr><th scope=row>32819</th><td>23841    </td><td>54153    </td><td>용의 눈물</td><td>한윤경   </td><td>1996     </td><td> 11      </td><td>71       </td></tr>\n",
       "\t<tr><th scope=row>32820</th><td>23841    </td><td>6154     </td><td>용의 눈물</td><td>주호성   </td><td>1996     </td><td> 32      </td><td>71       </td></tr>\n",
       "\t<tr><th scope=row>32821</th><td>23841    </td><td>1829     </td><td>용의 눈물</td><td>송재호   </td><td>1996     </td><td>100      </td><td>71       </td></tr>\n",
       "\t<tr><th scope=row>32822</th><td>23841    </td><td>54699    </td><td>용의 눈물</td><td>조춘     </td><td>1996     </td><td> 20      </td><td>71       </td></tr>\n",
       "\t<tr><th scope=row>32823</th><td>23841    </td><td>60660    </td><td>용의 눈물</td><td>박칠용   </td><td>1996     </td><td> 17      </td><td>71       </td></tr>\n",
       "\t<tr><th scope=row>32824</th><td>23841    </td><td>40017    </td><td>용의 눈물</td><td>이신재   </td><td>1996     </td><td> 19      </td><td>71       </td></tr>\n",
       "\t<tr><th scope=row>32825</th><td>23841    </td><td>45773    </td><td>용의 눈물</td><td>임혁주   </td><td>1996     </td><td> 14      </td><td>71       </td></tr>\n",
       "\t<tr><th scope=row>32826</th><td>23841    </td><td>54380    </td><td>용의 눈물</td><td>김순철   </td><td>1996     </td><td> 32      </td><td>71       </td></tr>\n",
       "\t<tr><th scope=row>32827</th><td>23841    </td><td>42403    </td><td>용의 눈물</td><td>임서연   </td><td>1996     </td><td> 20      </td><td>71       </td></tr>\n",
       "\t<tr><th scope=row>32828</th><td>23841    </td><td>53895    </td><td>용의 눈물</td><td>손영춘   </td><td>1996     </td><td> 13      </td><td>71       </td></tr>\n",
       "\t<tr><th scope=row>32829</th><td>23841    </td><td>19321    </td><td>용의 눈물</td><td>이대로   </td><td>1996     </td><td> 36      </td><td>71       </td></tr>\n",
       "\t<tr><th scope=row>32830</th><td>23841    </td><td>67306    </td><td>용의 눈물</td><td>권병준   </td><td>1996     </td><td> 10      </td><td>71       </td></tr>\n",
       "\t<tr><th scope=row>32831</th><td>23841    </td><td>6182     </td><td>용의 눈물</td><td>장서희   </td><td>1996     </td><td> 41      </td><td>71       </td></tr>\n",
       "\t<tr><th scope=row>32832</th><td>23841    </td><td>41382    </td><td>용의 눈물</td><td>김종결   </td><td>1996     </td><td> 16      </td><td>71       </td></tr>\n",
       "\t<tr><th scope=row>32833</th><td>23841    </td><td>10338    </td><td>용의 눈물</td><td>장항선   </td><td>1996     </td><td> 57      </td><td>71       </td></tr>\n",
       "\t<tr><th scope=row>32834</th><td>23841    </td><td>7277     </td><td>용의 눈물</td><td>김무생   </td><td>1996     </td><td> 61      </td><td>71       </td></tr>\n",
       "\t<tr><th scope=row>32835</th><td>23841    </td><td>7961     </td><td>용의 눈물</td><td>안병경   </td><td>1996     </td><td> 45      </td><td>71       </td></tr>\n",
       "\t<tr><th scope=row>32836</th><td>23841    </td><td>57840    </td><td>용의 눈물</td><td>김기섭   </td><td>1996     </td><td> 18      </td><td>71       </td></tr>\n",
       "\t<tr><th scope=row>32837</th><td>23841    </td><td>57842    </td><td>용의 눈물</td><td>유병한   </td><td>1996     </td><td> 10      </td><td>71       </td></tr>\n",
       "\t<tr><th scope=row>32838</th><td>23841    </td><td>55366    </td><td>용의 눈물</td><td>임정하   </td><td>1996     </td><td> 10      </td><td>71       </td></tr>\n",
       "\t<tr><th scope=row>32839</th><td>23841    </td><td>69814    </td><td>용의 눈물</td><td>박병호   </td><td>1996     </td><td> 14      </td><td>71       </td></tr>\n",
       "\t<tr><th scope=row>32840</th><td>23841    </td><td>40063    </td><td>용의 눈물</td><td>김하균   </td><td>1996     </td><td> 52      </td><td>71       </td></tr>\n",
       "\t<tr><th scope=row>32841</th><td>23841    </td><td>39758    </td><td>용의 눈물</td><td>선동혁   </td><td>1996     </td><td> 17      </td><td>71       </td></tr>\n",
       "\t<tr><th scope=row>32842</th><td>23841    </td><td>6665     </td><td>용의 눈물</td><td>정태우   </td><td>1996     </td><td> 31      </td><td>71       </td></tr>\n",
       "\t<tr><th scope=row>32843</th><td>23841    </td><td>55262    </td><td>용의 눈물</td><td>태민영   </td><td>1996     </td><td> 16      </td><td>71       </td></tr>\n",
       "</tbody>\n",
       "</table>\n"
      ],
      "text/latex": [
       "\\begin{tabular}{r|lllllll}\n",
       "  & movieCode & actorCode & movieName & actorName & year & movieCnt & actorCnt\\\\\n",
       "\\hline\n",
       "\t32773 & 23841     & 7234      & 용의 눈물 & 김성찬    & 1996      & 22        & 71       \\\\\n",
       "\t32774 & 23841     & 43606     & 용의 눈물 & 장성원    & 1996      & 12        & 71       \\\\\n",
       "\t32775 & 23841     & 6458      & 용의 눈물 & 남일우    & 1996      & 37        & 71       \\\\\n",
       "\t32776 & 23841     & 42434     & 용의 눈물 & 손호균    & 1996      & 18        & 71       \\\\\n",
       "\t32777 & 23841     & 7207      & 용의 눈물 & 강태기    & 1996      & 33        & 71       \\\\\n",
       "\t32778 & 23841     & 3179      & 용의 눈물 & 이민우    & 1996      & 41        & 71       \\\\\n",
       "\t32779 & 23841     & 48545     & 용의 눈물 & 안연홍    & 1996      & 31        & 71       \\\\\n",
       "\t32780 & 23841     & 40014     & 용의 눈물 & 신동훈    & 1996      & 13        & 71       \\\\\n",
       "\t32781 & 23841     & 7661      & 용의 눈물 & 이상인    & 1996      & 12        & 71       \\\\\n",
       "\t32782 & 23841     & 2966      & 용의 눈물 & 장인한    & 1996      & 36        & 71       \\\\\n",
       "\t32783 & 23841     & 6410      & 용의 눈물 & 유동근    & 1996      & 51        & 71       \\\\\n",
       "\t32784 & 23841     & 46285     & 용의 눈물 & 강인덕    & 1996      & 30        & 71       \\\\\n",
       "\t32785 & 23841     & 1828      & 용의 눈물 & 송윤아    & 1996      & 32        & 71       \\\\\n",
       "\t32786 & 23841     & 40125     & 용의 눈물 & 서범식    & 1996      & 16        & 71       \\\\\n",
       "\t32787 & 23841     & 60233     & 용의 눈물 & 김광영    & 1996      & 11        & 71       \\\\\n",
       "\t32788 & 23841     & 2028      & 용의 눈물 & 하지원    & 1996      & 37        & 71       \\\\\n",
       "\t32789 & 23841     & 41175     & 용의 눈물 & 문창길    & 1996      & 27        & 71       \\\\\n",
       "\t32790 & 23841     & 7964      & 용의 눈물 & 김흥기    & 1996      & 27        & 71       \\\\\n",
       "\t32791 & 23841     & 49867     & 용의 눈물 & 신귀식    & 1996      & 16        & 71       \\\\\n",
       "\t32792 & 23841     & 7343      & 용의 눈물 & 최명길    & 1996      & 42        & 71       \\\\\n",
       "\t32793 & 23841     & 38279     & 용의 눈물 & 박웅      & 1996      & 25        & 71       \\\\\n",
       "\t32794 & 23841     & 7117      & 용의 눈물 & 이보희    & 1996      & 61        & 71       \\\\\n",
       "\t32795 & 23841     & 7614      & 용의 눈물 & 한태일    & 1996      & 57        & 71       \\\\\n",
       "\t32796 & 23841     & 5665      & 용의 눈물 & 안재모    & 1996      & 37        & 71       \\\\\n",
       "\t32797 & 23841     & 5063      & 용의 눈물 & 최동준    & 1996      & 32        & 71       \\\\\n",
       "\t32798 & 23841     & 32096     & 용의 눈물 & 허정민    & 1996      & 24        & 71       \\\\\n",
       "\t32799 & 23841     & 12059     & 용의 눈물 & 손종범    & 1996      & 21        & 71       \\\\\n",
       "\t32800 & 23841     & 325       & 용의 눈물 & 박진성    & 1996      & 14        & 71       \\\\\n",
       "\t32801 & 23841     & 13900     & 용의 눈물 & 이종만    & 1996      & 21        & 71       \\\\\n",
       "\t32802 & 23841     & 37193     & 용의 눈물 & 김주영    & 1996      & 28        & 71       \\\\\n",
       "\t⋮ & ⋮ & ⋮ & ⋮ & ⋮ & ⋮ & ⋮ & ⋮\\\\\n",
       "\t32814 & 23841     & 17342     & 용의 눈물 & 김영란    & 1996      &  67       & 71       \\\\\n",
       "\t32815 & 23841     & 37645     & 용의 눈물 & 박상조    & 1996      &  13       & 71       \\\\\n",
       "\t32816 & 23841     & 5546      & 용의 눈물 & 이원종    & 1996      &  65       & 71       \\\\\n",
       "\t32817 & 23841     & 48544     & 용의 눈물 & 임혁      & 1996      &  38       & 71       \\\\\n",
       "\t32818 & 23841     & 41068     & 용의 눈물 & 김을동    & 1996      &  38       & 71       \\\\\n",
       "\t32819 & 23841     & 54153     & 용의 눈물 & 한윤경    & 1996      &  11       & 71       \\\\\n",
       "\t32820 & 23841     & 6154      & 용의 눈물 & 주호성    & 1996      &  32       & 71       \\\\\n",
       "\t32821 & 23841     & 1829      & 용의 눈물 & 송재호    & 1996      & 100       & 71       \\\\\n",
       "\t32822 & 23841     & 54699     & 용의 눈물 & 조춘      & 1996      &  20       & 71       \\\\\n",
       "\t32823 & 23841     & 60660     & 용의 눈물 & 박칠용    & 1996      &  17       & 71       \\\\\n",
       "\t32824 & 23841     & 40017     & 용의 눈물 & 이신재    & 1996      &  19       & 71       \\\\\n",
       "\t32825 & 23841     & 45773     & 용의 눈물 & 임혁주    & 1996      &  14       & 71       \\\\\n",
       "\t32826 & 23841     & 54380     & 용의 눈물 & 김순철    & 1996      &  32       & 71       \\\\\n",
       "\t32827 & 23841     & 42403     & 용의 눈물 & 임서연    & 1996      &  20       & 71       \\\\\n",
       "\t32828 & 23841     & 53895     & 용의 눈물 & 손영춘    & 1996      &  13       & 71       \\\\\n",
       "\t32829 & 23841     & 19321     & 용의 눈물 & 이대로    & 1996      &  36       & 71       \\\\\n",
       "\t32830 & 23841     & 67306     & 용의 눈물 & 권병준    & 1996      &  10       & 71       \\\\\n",
       "\t32831 & 23841     & 6182      & 용의 눈물 & 장서희    & 1996      &  41       & 71       \\\\\n",
       "\t32832 & 23841     & 41382     & 용의 눈물 & 김종결    & 1996      &  16       & 71       \\\\\n",
       "\t32833 & 23841     & 10338     & 용의 눈물 & 장항선    & 1996      &  57       & 71       \\\\\n",
       "\t32834 & 23841     & 7277      & 용의 눈물 & 김무생    & 1996      &  61       & 71       \\\\\n",
       "\t32835 & 23841     & 7961      & 용의 눈물 & 안병경    & 1996      &  45       & 71       \\\\\n",
       "\t32836 & 23841     & 57840     & 용의 눈물 & 김기섭    & 1996      &  18       & 71       \\\\\n",
       "\t32837 & 23841     & 57842     & 용의 눈물 & 유병한    & 1996      &  10       & 71       \\\\\n",
       "\t32838 & 23841     & 55366     & 용의 눈물 & 임정하    & 1996      &  10       & 71       \\\\\n",
       "\t32839 & 23841     & 69814     & 용의 눈물 & 박병호    & 1996      &  14       & 71       \\\\\n",
       "\t32840 & 23841     & 40063     & 용의 눈물 & 김하균    & 1996      &  52       & 71       \\\\\n",
       "\t32841 & 23841     & 39758     & 용의 눈물 & 선동혁    & 1996      &  17       & 71       \\\\\n",
       "\t32842 & 23841     & 6665      & 용의 눈물 & 정태우    & 1996      &  31       & 71       \\\\\n",
       "\t32843 & 23841     & 55262     & 용의 눈물 & 태민영    & 1996      &  16       & 71       \\\\\n",
       "\\end{tabular}\n"
      ],
      "text/markdown": [
       "\n",
       "| <!--/--> | movieCode | actorCode | movieName | actorName | year | movieCnt | actorCnt | \n",
       "|---|---|---|---|---|---|---|---|---|---|---|---|---|---|---|---|---|---|---|---|---|---|---|---|---|---|---|---|---|---|---|---|---|---|---|---|---|---|---|---|---|---|---|---|---|---|---|---|---|---|---|---|---|---|---|---|---|---|---|---|---|\n",
       "| 32773 | 23841     | 7234      | 용의 눈물 | 김성찬    | 1996      | 22        | 71        | \n",
       "| 32774 | 23841     | 43606     | 용의 눈물 | 장성원    | 1996      | 12        | 71        | \n",
       "| 32775 | 23841     | 6458      | 용의 눈물 | 남일우    | 1996      | 37        | 71        | \n",
       "| 32776 | 23841     | 42434     | 용의 눈물 | 손호균    | 1996      | 18        | 71        | \n",
       "| 32777 | 23841     | 7207      | 용의 눈물 | 강태기    | 1996      | 33        | 71        | \n",
       "| 32778 | 23841     | 3179      | 용의 눈물 | 이민우    | 1996      | 41        | 71        | \n",
       "| 32779 | 23841     | 48545     | 용의 눈물 | 안연홍    | 1996      | 31        | 71        | \n",
       "| 32780 | 23841     | 40014     | 용의 눈물 | 신동훈    | 1996      | 13        | 71        | \n",
       "| 32781 | 23841     | 7661      | 용의 눈물 | 이상인    | 1996      | 12        | 71        | \n",
       "| 32782 | 23841     | 2966      | 용의 눈물 | 장인한    | 1996      | 36        | 71        | \n",
       "| 32783 | 23841     | 6410      | 용의 눈물 | 유동근    | 1996      | 51        | 71        | \n",
       "| 32784 | 23841     | 46285     | 용의 눈물 | 강인덕    | 1996      | 30        | 71        | \n",
       "| 32785 | 23841     | 1828      | 용의 눈물 | 송윤아    | 1996      | 32        | 71        | \n",
       "| 32786 | 23841     | 40125     | 용의 눈물 | 서범식    | 1996      | 16        | 71        | \n",
       "| 32787 | 23841     | 60233     | 용의 눈물 | 김광영    | 1996      | 11        | 71        | \n",
       "| 32788 | 23841     | 2028      | 용의 눈물 | 하지원    | 1996      | 37        | 71        | \n",
       "| 32789 | 23841     | 41175     | 용의 눈물 | 문창길    | 1996      | 27        | 71        | \n",
       "| 32790 | 23841     | 7964      | 용의 눈물 | 김흥기    | 1996      | 27        | 71        | \n",
       "| 32791 | 23841     | 49867     | 용의 눈물 | 신귀식    | 1996      | 16        | 71        | \n",
       "| 32792 | 23841     | 7343      | 용의 눈물 | 최명길    | 1996      | 42        | 71        | \n",
       "| 32793 | 23841     | 38279     | 용의 눈물 | 박웅      | 1996      | 25        | 71        | \n",
       "| 32794 | 23841     | 7117      | 용의 눈물 | 이보희    | 1996      | 61        | 71        | \n",
       "| 32795 | 23841     | 7614      | 용의 눈물 | 한태일    | 1996      | 57        | 71        | \n",
       "| 32796 | 23841     | 5665      | 용의 눈물 | 안재모    | 1996      | 37        | 71        | \n",
       "| 32797 | 23841     | 5063      | 용의 눈물 | 최동준    | 1996      | 32        | 71        | \n",
       "| 32798 | 23841     | 32096     | 용의 눈물 | 허정민    | 1996      | 24        | 71        | \n",
       "| 32799 | 23841     | 12059     | 용의 눈물 | 손종범    | 1996      | 21        | 71        | \n",
       "| 32800 | 23841     | 325       | 용의 눈물 | 박진성    | 1996      | 14        | 71        | \n",
       "| 32801 | 23841     | 13900     | 용의 눈물 | 이종만    | 1996      | 21        | 71        | \n",
       "| 32802 | 23841     | 37193     | 용의 눈물 | 김주영    | 1996      | 28        | 71        | \n",
       "| ⋮ | ⋮ | ⋮ | ⋮ | ⋮ | ⋮ | ⋮ | ⋮ | \n",
       "| 32814 | 23841     | 17342     | 용의 눈물 | 김영란    | 1996      |  67       | 71        | \n",
       "| 32815 | 23841     | 37645     | 용의 눈물 | 박상조    | 1996      |  13       | 71        | \n",
       "| 32816 | 23841     | 5546      | 용의 눈물 | 이원종    | 1996      |  65       | 71        | \n",
       "| 32817 | 23841     | 48544     | 용의 눈물 | 임혁      | 1996      |  38       | 71        | \n",
       "| 32818 | 23841     | 41068     | 용의 눈물 | 김을동    | 1996      |  38       | 71        | \n",
       "| 32819 | 23841     | 54153     | 용의 눈물 | 한윤경    | 1996      |  11       | 71        | \n",
       "| 32820 | 23841     | 6154      | 용의 눈물 | 주호성    | 1996      |  32       | 71        | \n",
       "| 32821 | 23841     | 1829      | 용의 눈물 | 송재호    | 1996      | 100       | 71        | \n",
       "| 32822 | 23841     | 54699     | 용의 눈물 | 조춘      | 1996      |  20       | 71        | \n",
       "| 32823 | 23841     | 60660     | 용의 눈물 | 박칠용    | 1996      |  17       | 71        | \n",
       "| 32824 | 23841     | 40017     | 용의 눈물 | 이신재    | 1996      |  19       | 71        | \n",
       "| 32825 | 23841     | 45773     | 용의 눈물 | 임혁주    | 1996      |  14       | 71        | \n",
       "| 32826 | 23841     | 54380     | 용의 눈물 | 김순철    | 1996      |  32       | 71        | \n",
       "| 32827 | 23841     | 42403     | 용의 눈물 | 임서연    | 1996      |  20       | 71        | \n",
       "| 32828 | 23841     | 53895     | 용의 눈물 | 손영춘    | 1996      |  13       | 71        | \n",
       "| 32829 | 23841     | 19321     | 용의 눈물 | 이대로    | 1996      |  36       | 71        | \n",
       "| 32830 | 23841     | 67306     | 용의 눈물 | 권병준    | 1996      |  10       | 71        | \n",
       "| 32831 | 23841     | 6182      | 용의 눈물 | 장서희    | 1996      |  41       | 71        | \n",
       "| 32832 | 23841     | 41382     | 용의 눈물 | 김종결    | 1996      |  16       | 71        | \n",
       "| 32833 | 23841     | 10338     | 용의 눈물 | 장항선    | 1996      |  57       | 71        | \n",
       "| 32834 | 23841     | 7277      | 용의 눈물 | 김무생    | 1996      |  61       | 71        | \n",
       "| 32835 | 23841     | 7961      | 용의 눈물 | 안병경    | 1996      |  45       | 71        | \n",
       "| 32836 | 23841     | 57840     | 용의 눈물 | 김기섭    | 1996      |  18       | 71        | \n",
       "| 32837 | 23841     | 57842     | 용의 눈물 | 유병한    | 1996      |  10       | 71        | \n",
       "| 32838 | 23841     | 55366     | 용의 눈물 | 임정하    | 1996      |  10       | 71        | \n",
       "| 32839 | 23841     | 69814     | 용의 눈물 | 박병호    | 1996      |  14       | 71        | \n",
       "| 32840 | 23841     | 40063     | 용의 눈물 | 김하균    | 1996      |  52       | 71        | \n",
       "| 32841 | 23841     | 39758     | 용의 눈물 | 선동혁    | 1996      |  17       | 71        | \n",
       "| 32842 | 23841     | 6665      | 용의 눈물 | 정태우    | 1996      |  31       | 71        | \n",
       "| 32843 | 23841     | 55262     | 용의 눈물 | 태민영    | 1996      |  16       | 71        | \n",
       "\n",
       "\n"
      ],
      "text/plain": [
       "      movieCode actorCode movieName actorName year movieCnt actorCnt\n",
       "32773 23841     7234      용의 눈물 김성찬    1996 22       71      \n",
       "32774 23841     43606     용의 눈물 장성원    1996 12       71      \n",
       "32775 23841     6458      용의 눈물 남일우    1996 37       71      \n",
       "32776 23841     42434     용의 눈물 손호균    1996 18       71      \n",
       "32777 23841     7207      용의 눈물 강태기    1996 33       71      \n",
       "32778 23841     3179      용의 눈물 이민우    1996 41       71      \n",
       "32779 23841     48545     용의 눈물 안연홍    1996 31       71      \n",
       "32780 23841     40014     용의 눈물 신동훈    1996 13       71      \n",
       "32781 23841     7661      용의 눈물 이상인    1996 12       71      \n",
       "32782 23841     2966      용의 눈물 장인한    1996 36       71      \n",
       "32783 23841     6410      용의 눈물 유동근    1996 51       71      \n",
       "32784 23841     46285     용의 눈물 강인덕    1996 30       71      \n",
       "32785 23841     1828      용의 눈물 송윤아    1996 32       71      \n",
       "32786 23841     40125     용의 눈물 서범식    1996 16       71      \n",
       "32787 23841     60233     용의 눈물 김광영    1996 11       71      \n",
       "32788 23841     2028      용의 눈물 하지원    1996 37       71      \n",
       "32789 23841     41175     용의 눈물 문창길    1996 27       71      \n",
       "32790 23841     7964      용의 눈물 김흥기    1996 27       71      \n",
       "32791 23841     49867     용의 눈물 신귀식    1996 16       71      \n",
       "32792 23841     7343      용의 눈물 최명길    1996 42       71      \n",
       "32793 23841     38279     용의 눈물 박웅      1996 25       71      \n",
       "32794 23841     7117      용의 눈물 이보희    1996 61       71      \n",
       "32795 23841     7614      용의 눈물 한태일    1996 57       71      \n",
       "32796 23841     5665      용의 눈물 안재모    1996 37       71      \n",
       "32797 23841     5063      용의 눈물 최동준    1996 32       71      \n",
       "32798 23841     32096     용의 눈물 허정민    1996 24       71      \n",
       "32799 23841     12059     용의 눈물 손종범    1996 21       71      \n",
       "32800 23841     325       용의 눈물 박진성    1996 14       71      \n",
       "32801 23841     13900     용의 눈물 이종만    1996 21       71      \n",
       "32802 23841     37193     용의 눈물 김주영    1996 28       71      \n",
       "⋮     ⋮         ⋮         ⋮         ⋮         ⋮    ⋮        ⋮       \n",
       "32814 23841     17342     용의 눈물 김영란    1996  67      71      \n",
       "32815 23841     37645     용의 눈물 박상조    1996  13      71      \n",
       "32816 23841     5546      용의 눈물 이원종    1996  65      71      \n",
       "32817 23841     48544     용의 눈물 임혁      1996  38      71      \n",
       "32818 23841     41068     용의 눈물 김을동    1996  38      71      \n",
       "32819 23841     54153     용의 눈물 한윤경    1996  11      71      \n",
       "32820 23841     6154      용의 눈물 주호성    1996  32      71      \n",
       "32821 23841     1829      용의 눈물 송재호    1996 100      71      \n",
       "32822 23841     54699     용의 눈물 조춘      1996  20      71      \n",
       "32823 23841     60660     용의 눈물 박칠용    1996  17      71      \n",
       "32824 23841     40017     용의 눈물 이신재    1996  19      71      \n",
       "32825 23841     45773     용의 눈물 임혁주    1996  14      71      \n",
       "32826 23841     54380     용의 눈물 김순철    1996  32      71      \n",
       "32827 23841     42403     용의 눈물 임서연    1996  20      71      \n",
       "32828 23841     53895     용의 눈물 손영춘    1996  13      71      \n",
       "32829 23841     19321     용의 눈물 이대로    1996  36      71      \n",
       "32830 23841     67306     용의 눈물 권병준    1996  10      71      \n",
       "32831 23841     6182      용의 눈물 장서희    1996  41      71      \n",
       "32832 23841     41382     용의 눈물 김종결    1996  16      71      \n",
       "32833 23841     10338     용의 눈물 장항선    1996  57      71      \n",
       "32834 23841     7277      용의 눈물 김무생    1996  61      71      \n",
       "32835 23841     7961      용의 눈물 안병경    1996  45      71      \n",
       "32836 23841     57840     용의 눈물 김기섭    1996  18      71      \n",
       "32837 23841     57842     용의 눈물 유병한    1996  10      71      \n",
       "32838 23841     55366     용의 눈물 임정하    1996  10      71      \n",
       "32839 23841     69814     용의 눈물 박병호    1996  14      71      \n",
       "32840 23841     40063     용의 눈물 김하균    1996  52      71      \n",
       "32841 23841     39758     용의 눈물 선동혁    1996  17      71      \n",
       "32842 23841     6665      용의 눈물 정태우    1996  31      71      \n",
       "32843 23841     55262     용의 눈물 태민영    1996  16      71      "
      ]
     },
     "metadata": {},
     "output_type": "display_data"
    }
   ],
   "source": [
    "# 출연 배우수가 가장 많은 영화 확인\n",
    "df1[df1$actorCnt == max(df1$actorCnt),]\n",
    "\n",
    "# [주의] 출연한 영화수가 5편 이상인 배우들만 대상으로 했으므로 실제 데이터와 다름!!\n",
    "# 실제로 가장 많은 배우가 출연한 영화는 \"개그콘서트\"임"
   ]
  },
  {
   "cell_type": "code",
   "execution_count": 20,
   "metadata": {
    "slideshow": {
     "slide_type": "slide"
    }
   },
   "outputs": [
    {
     "data": {
      "text/html": [
       "62173"
      ],
      "text/latex": [
       "62173"
      ],
      "text/markdown": [
       "62173"
      ],
      "text/plain": [
       "[1] 62173"
      ]
     },
     "metadata": {},
     "output_type": "display_data"
    },
    {
     "data": {
      "text/html": [
       "10316"
      ],
      "text/latex": [
       "10316"
      ],
      "text/markdown": [
       "10316"
      ],
      "text/plain": [
       "[1] 10316"
      ]
     },
     "metadata": {},
     "output_type": "display_data"
    }
   ],
   "source": [
    "# 출연한 배우수가 2명 이상인 영화만 남기기\n",
    "df1 <- df1[df1$actorCnt >= 2,]\n",
    "\n",
    "# 행 개수 확인\n",
    "nrow(df1)\n",
    "\n",
    "# 10편 이상 출연한 배우들이 출연한 영화 편수 (중복 제거)\n",
    "length(unique(df1$movieCode))"
   ]
  },
  {
   "cell_type": "code",
   "execution_count": 21,
   "metadata": {
    "slideshow": {
     "slide_type": "slide"
    }
   },
   "outputs": [
    {
     "data": {
      "text/html": [
       "<table>\n",
       "<thead><tr><th></th><th scope=col>movieCode</th><th scope=col>movieName</th><th scope=col>year</th><th scope=col>actorCnt</th><th scope=col>actorCode</th><th scope=col>actorName</th><th scope=col>movieCnt</th></tr></thead>\n",
       "<tbody>\n",
       "\t<tr><th scope=row>1</th><td>100001                                          </td><td>와라! 편의점                                    </td><td>2009                                            </td><td>2                                               </td><td>97542                                           </td><td>신용우                                          </td><td>14                                              </td></tr>\n",
       "\t<tr><th scope=row>2</th><td>100001                                          </td><td>와라! 편의점                                    </td><td>2009                                            </td><td>2                                               </td><td>48841                                           </td><td>시영준                                          </td><td>12                                              </td></tr>\n",
       "\t<tr><th scope=row>3</th><td>100017                                          </td><td>검지손가락                                      </td><td>2011                                            </td><td>2                                               </td><td>48937                                           </td><td>소이                                            </td><td>16                                              </td></tr>\n",
       "\t<tr><th scope=row>4</th><td>100017                                          </td><td>검지손가락                                      </td><td>2011                                            </td><td>2                                               </td><td>5770                                            </td><td>류덕환                                          </td><td>34                                              </td></tr>\n",
       "\t<tr><th scope=row>7</th><td>100023                                          </td><td>부곡 하와이 (Bugok Hawaii: Illusionary Paradise)</td><td>2015                                            </td><td>4                                               </td><td>46662                                           </td><td>박명신                                          </td><td>38                                              </td></tr>\n",
       "\t<tr><th scope=row>8</th><td>100023                                          </td><td>부곡 하와이 (Bugok Hawaii: Illusionary Paradise)</td><td>2015                                            </td><td>4                                               </td><td>288291                                          </td><td>류혜린                                          </td><td>11                                              </td></tr>\n",
       "\t<tr><th scope=row>9</th><td>100023                                          </td><td>부곡 하와이 (Bugok Hawaii: Illusionary Paradise)</td><td>2015                                            </td><td>4                                               </td><td>53939                                           </td><td>오성태                                          </td><td>11                                              </td></tr>\n",
       "\t<tr><th scope=row>10</th><td>100023                                          </td><td>부곡 하와이 (Bugok Hawaii: Illusionary Paradise)</td><td>2015                                            </td><td>4                                               </td><td>39885                                           </td><td>김세동                                          </td><td>20                                              </td></tr>\n",
       "\t<tr><th scope=row>12</th><td>100030                                          </td><td>피를 파는 사나이 (The Blood Seller)             </td><td>2012                                            </td><td>2                                               </td><td>159435                                          </td><td>윤승훈                                          </td><td>16                                              </td></tr>\n",
       "\t<tr><th scope=row>13</th><td>100030                                          </td><td>피를 파는 사나이 (The Blood Seller)             </td><td>2012                                            </td><td>2                                               </td><td>149212                                          </td><td>송삼동                                          </td><td>29                                              </td></tr>\n",
       "</tbody>\n",
       "</table>\n"
      ],
      "text/latex": [
       "\\begin{tabular}{r|lllllll}\n",
       "  & movieCode & movieName & year & actorCnt & actorCode & actorName & movieCnt\\\\\n",
       "\\hline\n",
       "\t1 & 100001                                           & 와라! 편의점                                     & 2009                                             & 2                                                & 97542                                            & 신용우                                           & 14                                              \\\\\n",
       "\t2 & 100001                                           & 와라! 편의점                                     & 2009                                             & 2                                                & 48841                                            & 시영준                                           & 12                                              \\\\\n",
       "\t3 & 100017                                           & 검지손가락                                       & 2011                                             & 2                                                & 48937                                            & 소이                                             & 16                                              \\\\\n",
       "\t4 & 100017                                           & 검지손가락                                       & 2011                                             & 2                                                & 5770                                             & 류덕환                                           & 34                                              \\\\\n",
       "\t7 & 100023                                           & 부곡 하와이 (Bugok Hawaii: Illusionary Paradise) & 2015                                             & 4                                                & 46662                                            & 박명신                                           & 38                                              \\\\\n",
       "\t8 & 100023                                           & 부곡 하와이 (Bugok Hawaii: Illusionary Paradise) & 2015                                             & 4                                                & 288291                                           & 류혜린                                           & 11                                              \\\\\n",
       "\t9 & 100023                                           & 부곡 하와이 (Bugok Hawaii: Illusionary Paradise) & 2015                                             & 4                                                & 53939                                            & 오성태                                           & 11                                              \\\\\n",
       "\t10 & 100023                                           & 부곡 하와이 (Bugok Hawaii: Illusionary Paradise) & 2015                                             & 4                                                & 39885                                            & 김세동                                           & 20                                              \\\\\n",
       "\t12 & 100030                                           & 피를 파는 사나이 (The Blood Seller)              & 2012                                             & 2                                                & 159435                                           & 윤승훈                                           & 16                                              \\\\\n",
       "\t13 & 100030                                           & 피를 파는 사나이 (The Blood Seller)              & 2012                                             & 2                                                & 149212                                           & 송삼동                                           & 29                                              \\\\\n",
       "\\end{tabular}\n"
      ],
      "text/markdown": [
       "\n",
       "| <!--/--> | movieCode | movieName | year | actorCnt | actorCode | actorName | movieCnt | \n",
       "|---|---|---|---|---|---|---|---|---|---|\n",
       "| 1 | 100001                                           | 와라! 편의점                                     | 2009                                             | 2                                                | 97542                                            | 신용우                                           | 14                                               | \n",
       "| 2 | 100001                                           | 와라! 편의점                                     | 2009                                             | 2                                                | 48841                                            | 시영준                                           | 12                                               | \n",
       "| 3 | 100017                                           | 검지손가락                                       | 2011                                             | 2                                                | 48937                                            | 소이                                             | 16                                               | \n",
       "| 4 | 100017                                           | 검지손가락                                       | 2011                                             | 2                                                | 5770                                             | 류덕환                                           | 34                                               | \n",
       "| 7 | 100023                                           | 부곡 하와이 (Bugok Hawaii: Illusionary Paradise) | 2015                                             | 4                                                | 46662                                            | 박명신                                           | 38                                               | \n",
       "| 8 | 100023                                           | 부곡 하와이 (Bugok Hawaii: Illusionary Paradise) | 2015                                             | 4                                                | 288291                                           | 류혜린                                           | 11                                               | \n",
       "| 9 | 100023                                           | 부곡 하와이 (Bugok Hawaii: Illusionary Paradise) | 2015                                             | 4                                                | 53939                                            | 오성태                                           | 11                                               | \n",
       "| 10 | 100023                                           | 부곡 하와이 (Bugok Hawaii: Illusionary Paradise) | 2015                                             | 4                                                | 39885                                            | 김세동                                           | 20                                               | \n",
       "| 12 | 100030                                           | 피를 파는 사나이 (The Blood Seller)              | 2012                                             | 2                                                | 159435                                           | 윤승훈                                           | 16                                               | \n",
       "| 13 | 100030                                           | 피를 파는 사나이 (The Blood Seller)              | 2012                                             | 2                                                | 149212                                           | 송삼동                                           | 29                                               | \n",
       "\n",
       "\n"
      ],
      "text/plain": [
       "   movieCode movieName                                        year actorCnt\n",
       "1  100001    와라! 편의점                                     2009 2       \n",
       "2  100001    와라! 편의점                                     2009 2       \n",
       "3  100017    검지손가락                                       2011 2       \n",
       "4  100017    검지손가락                                       2011 2       \n",
       "7  100023    부곡 하와이 (Bugok Hawaii: Illusionary Paradise) 2015 4       \n",
       "8  100023    부곡 하와이 (Bugok Hawaii: Illusionary Paradise) 2015 4       \n",
       "9  100023    부곡 하와이 (Bugok Hawaii: Illusionary Paradise) 2015 4       \n",
       "10 100023    부곡 하와이 (Bugok Hawaii: Illusionary Paradise) 2015 4       \n",
       "12 100030    피를 파는 사나이 (The Blood Seller)              2012 2       \n",
       "13 100030    피를 파는 사나이 (The Blood Seller)              2012 2       \n",
       "   actorCode actorName movieCnt\n",
       "1  97542     신용우    14      \n",
       "2  48841     시영준    12      \n",
       "3  48937     소이      16      \n",
       "4  5770      류덕환    34      \n",
       "7  46662     박명신    38      \n",
       "8  288291    류혜린    11      \n",
       "9  53939     오성태    11      \n",
       "10 39885     김세동    20      \n",
       "12 159435    윤승훈    16      \n",
       "13 149212    송삼동    29      "
      ]
     },
     "metadata": {},
     "output_type": "display_data"
    }
   ],
   "source": [
    "# 컬럼 정렬\n",
    "df1 <- df1[, c(\"movieCode\",\"movieName\",\"year\",\"actorCnt\",\"actorCode\",\"actorName\",\"movieCnt\")]\n",
    "\n",
    "# 첫 10줄만 확인\n",
    "head(df1, 10L)"
   ]
  },
  {
   "cell_type": "code",
   "execution_count": 22,
   "metadata": {
    "slideshow": {
     "slide_type": "slide"
    }
   },
   "outputs": [
    {
     "data": {
      "text/html": [
       "36100"
      ],
      "text/latex": [
       "36100"
      ],
      "text/markdown": [
       "36100"
      ],
      "text/plain": [
       "[1] 36100"
      ]
     },
     "metadata": {},
     "output_type": "display_data"
    }
   ],
   "source": [
    "# 2000년 이후 제작된 영화만 남기기\n",
    "# 아주 옛날 영화까지 포함하면 누군지 모르니까... \n",
    "df2 <- df1[df1$year >= 2000,]\n",
    "\n",
    "# 행 개수 확인\n",
    "nrow(df2)"
   ]
  },
  {
   "cell_type": "code",
   "execution_count": 23,
   "metadata": {
    "slideshow": {
     "slide_type": "slide"
    }
   },
   "outputs": [
    {
     "data": {
      "text/html": [
       "<table>\n",
       "<thead><tr><th></th><th scope=col>movieCode</th><th scope=col>actorCode</th><th scope=col>check</th></tr></thead>\n",
       "<tbody>\n",
       "\t<tr><th scope=row>1</th><td>100001</td><td>97542 </td><td>1     </td></tr>\n",
       "\t<tr><th scope=row>2</th><td>100001</td><td>48841 </td><td>1     </td></tr>\n",
       "\t<tr><th scope=row>3</th><td>100017</td><td>48937 </td><td>1     </td></tr>\n",
       "\t<tr><th scope=row>4</th><td>100017</td><td>5770  </td><td>1     </td></tr>\n",
       "\t<tr><th scope=row>7</th><td>100023</td><td>46662 </td><td>1     </td></tr>\n",
       "\t<tr><th scope=row>8</th><td>100023</td><td>288291</td><td>1     </td></tr>\n",
       "\t<tr><th scope=row>9</th><td>100023</td><td>53939 </td><td>1     </td></tr>\n",
       "\t<tr><th scope=row>10</th><td>100023</td><td>39885 </td><td>1     </td></tr>\n",
       "\t<tr><th scope=row>12</th><td>100030</td><td>159435</td><td>1     </td></tr>\n",
       "\t<tr><th scope=row>13</th><td>100030</td><td>149212</td><td>1     </td></tr>\n",
       "</tbody>\n",
       "</table>\n"
      ],
      "text/latex": [
       "\\begin{tabular}{r|lll}\n",
       "  & movieCode & actorCode & check\\\\\n",
       "\\hline\n",
       "\t1 & 100001 & 97542  & 1     \\\\\n",
       "\t2 & 100001 & 48841  & 1     \\\\\n",
       "\t3 & 100017 & 48937  & 1     \\\\\n",
       "\t4 & 100017 & 5770   & 1     \\\\\n",
       "\t7 & 100023 & 46662  & 1     \\\\\n",
       "\t8 & 100023 & 288291 & 1     \\\\\n",
       "\t9 & 100023 & 53939  & 1     \\\\\n",
       "\t10 & 100023 & 39885  & 1     \\\\\n",
       "\t12 & 100030 & 159435 & 1     \\\\\n",
       "\t13 & 100030 & 149212 & 1     \\\\\n",
       "\\end{tabular}\n"
      ],
      "text/markdown": [
       "\n",
       "| <!--/--> | movieCode | actorCode | check | \n",
       "|---|---|---|---|---|---|---|---|---|---|\n",
       "| 1 | 100001 | 97542  | 1      | \n",
       "| 2 | 100001 | 48841  | 1      | \n",
       "| 3 | 100017 | 48937  | 1      | \n",
       "| 4 | 100017 | 5770   | 1      | \n",
       "| 7 | 100023 | 46662  | 1      | \n",
       "| 8 | 100023 | 288291 | 1      | \n",
       "| 9 | 100023 | 53939  | 1      | \n",
       "| 10 | 100023 | 39885  | 1      | \n",
       "| 12 | 100030 | 159435 | 1      | \n",
       "| 13 | 100030 | 149212 | 1      | \n",
       "\n",
       "\n"
      ],
      "text/plain": [
       "   movieCode actorCode check\n",
       "1  100001    97542     1    \n",
       "2  100001    48841     1    \n",
       "3  100017    48937     1    \n",
       "4  100017    5770      1    \n",
       "7  100023    46662     1    \n",
       "8  100023    288291    1    \n",
       "9  100023    53939     1    \n",
       "10 100023    39885     1    \n",
       "12 100030    159435    1    \n",
       "13 100030    149212    1    "
      ]
     },
     "metadata": {},
     "output_type": "display_data"
    }
   ],
   "source": [
    "# 영화-배우 행렬을 만들어 같은 영화에 동시 출연한 배우들의 횟수를 확인함 \n",
    "# 이를 위해 df2 전처리 (영화코드와 배우코드만 남기고 각 행별 1씩 할당)\n",
    "maDf <- cbind(df2[, c(\"movieCode\",\"actorCode\")],\n",
    "              check = rep(1, nrow(df2)))\n",
    "\n",
    "# 첫 10줄만 미리보기\n",
    "head(maDf, 10L)"
   ]
  },
  {
   "cell_type": "code",
   "execution_count": 24,
   "metadata": {
    "scrolled": true,
    "slideshow": {
     "slide_type": "slide"
    }
   },
   "outputs": [
    {
     "name": "stderr",
     "output_type": "stream",
     "text": [
      "Using check as value column: use value.var to override.\n",
      "Aggregation function missing: defaulting to length\n"
     ]
    },
    {
     "data": {
      "text/html": [
       "<ol class=list-inline>\n",
       "\t<li>4960</li>\n",
       "\t<li>2082</li>\n",
       "</ol>\n"
      ],
      "text/latex": [
       "\\begin{enumerate*}\n",
       "\\item 4960\n",
       "\\item 2082\n",
       "\\end{enumerate*}\n"
      ],
      "text/markdown": [
       "1. 4960\n",
       "2. 2082\n",
       "\n",
       "\n"
      ],
      "text/plain": [
       "[1] 4960 2082"
      ]
     },
     "metadata": {},
     "output_type": "display_data"
    },
    {
     "data": {
      "text/html": [
       "<table>\n",
       "<thead><tr><th></th><th scope=col>100207</th><th scope=col>100854</th><th scope=col>100860</th><th scope=col>101096</th><th scope=col>102416</th><th scope=col>102521</th><th scope=col>102523</th><th scope=col>10319</th><th scope=col>10320</th><th scope=col>103201</th></tr></thead>\n",
       "<tbody>\n",
       "\t<tr><th scope=row>100001</th><td>0</td><td>0</td><td>0</td><td>0</td><td>0</td><td>0</td><td>0</td><td>0</td><td>0</td><td>0</td></tr>\n",
       "\t<tr><th scope=row>100017</th><td>0</td><td>0</td><td>0</td><td>0</td><td>0</td><td>0</td><td>0</td><td>0</td><td>0</td><td>0</td></tr>\n",
       "\t<tr><th scope=row>100023</th><td>0</td><td>0</td><td>0</td><td>0</td><td>0</td><td>0</td><td>0</td><td>0</td><td>0</td><td>0</td></tr>\n",
       "\t<tr><th scope=row>100030</th><td>0</td><td>0</td><td>0</td><td>0</td><td>0</td><td>0</td><td>0</td><td>0</td><td>0</td><td>0</td></tr>\n",
       "\t<tr><th scope=row>100041</th><td>0</td><td>0</td><td>0</td><td>0</td><td>0</td><td>0</td><td>0</td><td>0</td><td>0</td><td>0</td></tr>\n",
       "\t<tr><th scope=row>100165</th><td>0</td><td>0</td><td>0</td><td>0</td><td>0</td><td>0</td><td>0</td><td>0</td><td>0</td><td>0</td></tr>\n",
       "\t<tr><th scope=row>100215</th><td>0</td><td>0</td><td>0</td><td>0</td><td>0</td><td>0</td><td>0</td><td>0</td><td>0</td><td>0</td></tr>\n",
       "\t<tr><th scope=row>100306</th><td>0</td><td>0</td><td>0</td><td>0</td><td>0</td><td>0</td><td>0</td><td>0</td><td>0</td><td>0</td></tr>\n",
       "\t<tr><th scope=row>100318</th><td>0</td><td>0</td><td>0</td><td>0</td><td>0</td><td>0</td><td>0</td><td>0</td><td>0</td><td>0</td></tr>\n",
       "\t<tr><th scope=row>100354</th><td>0</td><td>0</td><td>0</td><td>0</td><td>0</td><td>0</td><td>0</td><td>0</td><td>0</td><td>0</td></tr>\n",
       "</tbody>\n",
       "</table>\n"
      ],
      "text/latex": [
       "\\begin{tabular}{r|llllllllll}\n",
       "  & 100207 & 100854 & 100860 & 101096 & 102416 & 102521 & 102523 & 10319 & 10320 & 103201\\\\\n",
       "\\hline\n",
       "\t100001 & 0 & 0 & 0 & 0 & 0 & 0 & 0 & 0 & 0 & 0\\\\\n",
       "\t100017 & 0 & 0 & 0 & 0 & 0 & 0 & 0 & 0 & 0 & 0\\\\\n",
       "\t100023 & 0 & 0 & 0 & 0 & 0 & 0 & 0 & 0 & 0 & 0\\\\\n",
       "\t100030 & 0 & 0 & 0 & 0 & 0 & 0 & 0 & 0 & 0 & 0\\\\\n",
       "\t100041 & 0 & 0 & 0 & 0 & 0 & 0 & 0 & 0 & 0 & 0\\\\\n",
       "\t100165 & 0 & 0 & 0 & 0 & 0 & 0 & 0 & 0 & 0 & 0\\\\\n",
       "\t100215 & 0 & 0 & 0 & 0 & 0 & 0 & 0 & 0 & 0 & 0\\\\\n",
       "\t100306 & 0 & 0 & 0 & 0 & 0 & 0 & 0 & 0 & 0 & 0\\\\\n",
       "\t100318 & 0 & 0 & 0 & 0 & 0 & 0 & 0 & 0 & 0 & 0\\\\\n",
       "\t100354 & 0 & 0 & 0 & 0 & 0 & 0 & 0 & 0 & 0 & 0\\\\\n",
       "\\end{tabular}\n"
      ],
      "text/markdown": [
       "\n",
       "| <!--/--> | 100207 | 100854 | 100860 | 101096 | 102416 | 102521 | 102523 | 10319 | 10320 | 103201 | \n",
       "|---|---|---|---|---|---|---|---|---|---|\n",
       "| 100001 | 0 | 0 | 0 | 0 | 0 | 0 | 0 | 0 | 0 | 0 | \n",
       "| 100017 | 0 | 0 | 0 | 0 | 0 | 0 | 0 | 0 | 0 | 0 | \n",
       "| 100023 | 0 | 0 | 0 | 0 | 0 | 0 | 0 | 0 | 0 | 0 | \n",
       "| 100030 | 0 | 0 | 0 | 0 | 0 | 0 | 0 | 0 | 0 | 0 | \n",
       "| 100041 | 0 | 0 | 0 | 0 | 0 | 0 | 0 | 0 | 0 | 0 | \n",
       "| 100165 | 0 | 0 | 0 | 0 | 0 | 0 | 0 | 0 | 0 | 0 | \n",
       "| 100215 | 0 | 0 | 0 | 0 | 0 | 0 | 0 | 0 | 0 | 0 | \n",
       "| 100306 | 0 | 0 | 0 | 0 | 0 | 0 | 0 | 0 | 0 | 0 | \n",
       "| 100318 | 0 | 0 | 0 | 0 | 0 | 0 | 0 | 0 | 0 | 0 | \n",
       "| 100354 | 0 | 0 | 0 | 0 | 0 | 0 | 0 | 0 | 0 | 0 | \n",
       "\n",
       "\n"
      ],
      "text/plain": [
       "       100207 100854 100860 101096 102416 102521 102523 10319 10320 103201\n",
       "100001 0      0      0      0      0      0      0      0     0     0     \n",
       "100017 0      0      0      0      0      0      0      0     0     0     \n",
       "100023 0      0      0      0      0      0      0      0     0     0     \n",
       "100030 0      0      0      0      0      0      0      0     0     0     \n",
       "100041 0      0      0      0      0      0      0      0     0     0     \n",
       "100165 0      0      0      0      0      0      0      0     0     0     \n",
       "100215 0      0      0      0      0      0      0      0     0     0     \n",
       "100306 0      0      0      0      0      0      0      0     0     0     \n",
       "100318 0      0      0      0      0      0      0      0     0     0     \n",
       "100354 0      0      0      0      0      0      0      0     0     0     "
      ]
     },
     "metadata": {},
     "output_type": "display_data"
    }
   ],
   "source": [
    "# reshape2 패키지의 acast() 함수를 이용하여 영화-배우 행렬 생성\n",
    "# 행렬의 빈 요소는 0으로 채움 \n",
    "maMat <- acast(data = maDf, \n",
    "               formula = movieCode ~ actorCode, \n",
    "               fill = 0)\n",
    "\n",
    "# 행렬 차원수 확인\n",
    "dim(maMat)\n",
    "\n",
    "# 10행 * 10열만 확인\n",
    "# 대부분 0인 행렬이 생성됨 \n",
    "maMat[1:10, 1:10]"
   ]
  },
  {
   "cell_type": "code",
   "execution_count": 25,
   "metadata": {
    "scrolled": true,
    "slideshow": {
     "slide_type": "slide"
    }
   },
   "outputs": [
    {
     "data": {
      "text/html": [
       "<table>\n",
       "<thead><tr><th></th><th scope=col>100207</th><th scope=col>100854</th><th scope=col>100860</th><th scope=col>101096</th><th scope=col>102416</th><th scope=col>102521</th><th scope=col>102523</th><th scope=col>10319</th><th scope=col>10320</th><th scope=col>103201</th></tr></thead>\n",
       "<tbody>\n",
       "\t<tr><th scope=row>100207</th><td>0</td><td>0</td><td>0</td><td>0</td><td>0</td><td>0</td><td>0</td><td>0</td><td>0</td><td>0</td></tr>\n",
       "\t<tr><th scope=row>100854</th><td>0</td><td>0</td><td>0</td><td>0</td><td>0</td><td>0</td><td>0</td><td>0</td><td>0</td><td>0</td></tr>\n",
       "\t<tr><th scope=row>100860</th><td>0</td><td>0</td><td>0</td><td>0</td><td>0</td><td>0</td><td>0</td><td>0</td><td>0</td><td>0</td></tr>\n",
       "\t<tr><th scope=row>101096</th><td>0</td><td>0</td><td>0</td><td>0</td><td>0</td><td>0</td><td>0</td><td>0</td><td>0</td><td>0</td></tr>\n",
       "\t<tr><th scope=row>102416</th><td>0</td><td>0</td><td>0</td><td>0</td><td>0</td><td>0</td><td>0</td><td>1</td><td>0</td><td>0</td></tr>\n",
       "\t<tr><th scope=row>102521</th><td>0</td><td>0</td><td>0</td><td>0</td><td>0</td><td>0</td><td>0</td><td>0</td><td>0</td><td>0</td></tr>\n",
       "\t<tr><th scope=row>102523</th><td>0</td><td>0</td><td>0</td><td>0</td><td>0</td><td>0</td><td>0</td><td>0</td><td>0</td><td>0</td></tr>\n",
       "\t<tr><th scope=row>10319</th><td>0</td><td>0</td><td>0</td><td>0</td><td>1</td><td>0</td><td>0</td><td>0</td><td>0</td><td>0</td></tr>\n",
       "\t<tr><th scope=row>10320</th><td>0</td><td>0</td><td>0</td><td>0</td><td>0</td><td>0</td><td>0</td><td>0</td><td>0</td><td>0</td></tr>\n",
       "\t<tr><th scope=row>103201</th><td>0</td><td>0</td><td>0</td><td>0</td><td>0</td><td>0</td><td>0</td><td>0</td><td>0</td><td>0</td></tr>\n",
       "</tbody>\n",
       "</table>\n"
      ],
      "text/latex": [
       "\\begin{tabular}{r|llllllllll}\n",
       "  & 100207 & 100854 & 100860 & 101096 & 102416 & 102521 & 102523 & 10319 & 10320 & 103201\\\\\n",
       "\\hline\n",
       "\t100207 & 0 & 0 & 0 & 0 & 0 & 0 & 0 & 0 & 0 & 0\\\\\n",
       "\t100854 & 0 & 0 & 0 & 0 & 0 & 0 & 0 & 0 & 0 & 0\\\\\n",
       "\t100860 & 0 & 0 & 0 & 0 & 0 & 0 & 0 & 0 & 0 & 0\\\\\n",
       "\t101096 & 0 & 0 & 0 & 0 & 0 & 0 & 0 & 0 & 0 & 0\\\\\n",
       "\t102416 & 0 & 0 & 0 & 0 & 0 & 0 & 0 & 1 & 0 & 0\\\\\n",
       "\t102521 & 0 & 0 & 0 & 0 & 0 & 0 & 0 & 0 & 0 & 0\\\\\n",
       "\t102523 & 0 & 0 & 0 & 0 & 0 & 0 & 0 & 0 & 0 & 0\\\\\n",
       "\t10319 & 0 & 0 & 0 & 0 & 1 & 0 & 0 & 0 & 0 & 0\\\\\n",
       "\t10320 & 0 & 0 & 0 & 0 & 0 & 0 & 0 & 0 & 0 & 0\\\\\n",
       "\t103201 & 0 & 0 & 0 & 0 & 0 & 0 & 0 & 0 & 0 & 0\\\\\n",
       "\\end{tabular}\n"
      ],
      "text/markdown": [
       "\n",
       "| <!--/--> | 100207 | 100854 | 100860 | 101096 | 102416 | 102521 | 102523 | 10319 | 10320 | 103201 | \n",
       "|---|---|---|---|---|---|---|---|---|---|\n",
       "| 100207 | 0 | 0 | 0 | 0 | 0 | 0 | 0 | 0 | 0 | 0 | \n",
       "| 100854 | 0 | 0 | 0 | 0 | 0 | 0 | 0 | 0 | 0 | 0 | \n",
       "| 100860 | 0 | 0 | 0 | 0 | 0 | 0 | 0 | 0 | 0 | 0 | \n",
       "| 101096 | 0 | 0 | 0 | 0 | 0 | 0 | 0 | 0 | 0 | 0 | \n",
       "| 102416 | 0 | 0 | 0 | 0 | 0 | 0 | 0 | 1 | 0 | 0 | \n",
       "| 102521 | 0 | 0 | 0 | 0 | 0 | 0 | 0 | 0 | 0 | 0 | \n",
       "| 102523 | 0 | 0 | 0 | 0 | 0 | 0 | 0 | 0 | 0 | 0 | \n",
       "| 10319 | 0 | 0 | 0 | 0 | 1 | 0 | 0 | 0 | 0 | 0 | \n",
       "| 10320 | 0 | 0 | 0 | 0 | 0 | 0 | 0 | 0 | 0 | 0 | \n",
       "| 103201 | 0 | 0 | 0 | 0 | 0 | 0 | 0 | 0 | 0 | 0 | \n",
       "\n",
       "\n"
      ],
      "text/plain": [
       "       100207 100854 100860 101096 102416 102521 102523 10319 10320 103201\n",
       "100207 0      0      0      0      0      0      0      0     0     0     \n",
       "100854 0      0      0      0      0      0      0      0     0     0     \n",
       "100860 0      0      0      0      0      0      0      0     0     0     \n",
       "101096 0      0      0      0      0      0      0      0     0     0     \n",
       "102416 0      0      0      0      0      0      0      1     0     0     \n",
       "102521 0      0      0      0      0      0      0      0     0     0     \n",
       "102523 0      0      0      0      0      0      0      0     0     0     \n",
       "10319  0      0      0      0      1      0      0      0     0     0     \n",
       "10320  0      0      0      0      0      0      0      0     0     0     \n",
       "103201 0      0      0      0      0      0      0      0     0     0     "
      ]
     },
     "metadata": {},
     "output_type": "display_data"
    }
   ],
   "source": [
    "# 배우 간 동시 출연 횟수를 행렬로 만들기\n",
    "# 배우코드로 행과 열을 이루어야 하므로 영화-배우 행렬을 전치한 후 행렬 곱을 실행\n",
    "actorsMul <- t(maMat) %*% maMat\n",
    "\n",
    "# 같은 영화에 출연한 적이 있으면 1, 없으면 0을 할당\n",
    "actorsMul <- ifelse(actorsMul >= 2, 1, 0)\n",
    "\n",
    "# 같은 배우의 출연횟수(대각원소)는 0으로 치환함\n",
    "diag(actorsMul) <- 0\n",
    "\n",
    "# 10행 10열만 미리보기\n",
    "actorsMul[1:10, 1:10]"
   ]
  },
  {
   "cell_type": "code",
   "execution_count": 26,
   "metadata": {
    "slideshow": {
     "slide_type": "slide"
    }
   },
   "outputs": [
    {
     "data": {
      "text/html": [
       "<ol class=list-inline>\n",
       "\t<li>1913</li>\n",
       "\t<li>1913</li>\n",
       "</ol>\n"
      ],
      "text/latex": [
       "\\begin{enumerate*}\n",
       "\\item 1913\n",
       "\\item 1913\n",
       "\\end{enumerate*}\n"
      ],
      "text/markdown": [
       "1. 1913\n",
       "2. 1913\n",
       "\n",
       "\n"
      ],
      "text/plain": [
       "[1] 1913 1913"
      ]
     },
     "metadata": {},
     "output_type": "display_data"
    },
    {
     "data": {
      "text/html": [
       "<table>\n",
       "<thead><tr><th></th><th scope=col>100207</th><th scope=col>100854</th><th scope=col>100860</th><th scope=col>101096</th><th scope=col>102416</th><th scope=col>102521</th><th scope=col>10319</th><th scope=col>10320</th><th scope=col>103201</th><th scope=col>10338</th></tr></thead>\n",
       "<tbody>\n",
       "\t<tr><th scope=row>100207</th><td>0</td><td>0</td><td>0</td><td>0</td><td>0</td><td>0</td><td>0</td><td>0</td><td>0</td><td>0</td></tr>\n",
       "\t<tr><th scope=row>100854</th><td>0</td><td>0</td><td>0</td><td>0</td><td>0</td><td>0</td><td>0</td><td>0</td><td>0</td><td>0</td></tr>\n",
       "\t<tr><th scope=row>100860</th><td>0</td><td>0</td><td>0</td><td>0</td><td>0</td><td>0</td><td>0</td><td>0</td><td>0</td><td>0</td></tr>\n",
       "\t<tr><th scope=row>101096</th><td>0</td><td>0</td><td>0</td><td>0</td><td>0</td><td>0</td><td>0</td><td>0</td><td>0</td><td>0</td></tr>\n",
       "\t<tr><th scope=row>102416</th><td>0</td><td>0</td><td>0</td><td>0</td><td>0</td><td>0</td><td>1</td><td>0</td><td>0</td><td>0</td></tr>\n",
       "\t<tr><th scope=row>102521</th><td>0</td><td>0</td><td>0</td><td>0</td><td>0</td><td>0</td><td>0</td><td>0</td><td>0</td><td>0</td></tr>\n",
       "\t<tr><th scope=row>10319</th><td>0</td><td>0</td><td>0</td><td>0</td><td>1</td><td>0</td><td>0</td><td>0</td><td>0</td><td>0</td></tr>\n",
       "\t<tr><th scope=row>10320</th><td>0</td><td>0</td><td>0</td><td>0</td><td>0</td><td>0</td><td>0</td><td>0</td><td>0</td><td>1</td></tr>\n",
       "\t<tr><th scope=row>103201</th><td>0</td><td>0</td><td>0</td><td>0</td><td>0</td><td>0</td><td>0</td><td>0</td><td>0</td><td>0</td></tr>\n",
       "\t<tr><th scope=row>10338</th><td>0</td><td>0</td><td>0</td><td>0</td><td>0</td><td>0</td><td>0</td><td>1</td><td>0</td><td>0</td></tr>\n",
       "</tbody>\n",
       "</table>\n"
      ],
      "text/latex": [
       "\\begin{tabular}{r|llllllllll}\n",
       "  & 100207 & 100854 & 100860 & 101096 & 102416 & 102521 & 10319 & 10320 & 103201 & 10338\\\\\n",
       "\\hline\n",
       "\t100207 & 0 & 0 & 0 & 0 & 0 & 0 & 0 & 0 & 0 & 0\\\\\n",
       "\t100854 & 0 & 0 & 0 & 0 & 0 & 0 & 0 & 0 & 0 & 0\\\\\n",
       "\t100860 & 0 & 0 & 0 & 0 & 0 & 0 & 0 & 0 & 0 & 0\\\\\n",
       "\t101096 & 0 & 0 & 0 & 0 & 0 & 0 & 0 & 0 & 0 & 0\\\\\n",
       "\t102416 & 0 & 0 & 0 & 0 & 0 & 0 & 1 & 0 & 0 & 0\\\\\n",
       "\t102521 & 0 & 0 & 0 & 0 & 0 & 0 & 0 & 0 & 0 & 0\\\\\n",
       "\t10319 & 0 & 0 & 0 & 0 & 1 & 0 & 0 & 0 & 0 & 0\\\\\n",
       "\t10320 & 0 & 0 & 0 & 0 & 0 & 0 & 0 & 0 & 0 & 1\\\\\n",
       "\t103201 & 0 & 0 & 0 & 0 & 0 & 0 & 0 & 0 & 0 & 0\\\\\n",
       "\t10338 & 0 & 0 & 0 & 0 & 0 & 0 & 0 & 1 & 0 & 0\\\\\n",
       "\\end{tabular}\n"
      ],
      "text/markdown": [
       "\n",
       "| <!--/--> | 100207 | 100854 | 100860 | 101096 | 102416 | 102521 | 10319 | 10320 | 103201 | 10338 | \n",
       "|---|---|---|---|---|---|---|---|---|---|\n",
       "| 100207 | 0 | 0 | 0 | 0 | 0 | 0 | 0 | 0 | 0 | 0 | \n",
       "| 100854 | 0 | 0 | 0 | 0 | 0 | 0 | 0 | 0 | 0 | 0 | \n",
       "| 100860 | 0 | 0 | 0 | 0 | 0 | 0 | 0 | 0 | 0 | 0 | \n",
       "| 101096 | 0 | 0 | 0 | 0 | 0 | 0 | 0 | 0 | 0 | 0 | \n",
       "| 102416 | 0 | 0 | 0 | 0 | 0 | 0 | 1 | 0 | 0 | 0 | \n",
       "| 102521 | 0 | 0 | 0 | 0 | 0 | 0 | 0 | 0 | 0 | 0 | \n",
       "| 10319 | 0 | 0 | 0 | 0 | 1 | 0 | 0 | 0 | 0 | 0 | \n",
       "| 10320 | 0 | 0 | 0 | 0 | 0 | 0 | 0 | 0 | 0 | 1 | \n",
       "| 103201 | 0 | 0 | 0 | 0 | 0 | 0 | 0 | 0 | 0 | 0 | \n",
       "| 10338 | 0 | 0 | 0 | 0 | 0 | 0 | 0 | 1 | 0 | 0 | \n",
       "\n",
       "\n"
      ],
      "text/plain": [
       "       100207 100854 100860 101096 102416 102521 10319 10320 103201 10338\n",
       "100207 0      0      0      0      0      0      0     0     0      0    \n",
       "100854 0      0      0      0      0      0      0     0     0      0    \n",
       "100860 0      0      0      0      0      0      0     0     0      0    \n",
       "101096 0      0      0      0      0      0      0     0     0      0    \n",
       "102416 0      0      0      0      0      0      1     0     0      0    \n",
       "102521 0      0      0      0      0      0      0     0     0      0    \n",
       "10319  0      0      0      0      1      0      0     0     0      0    \n",
       "10320  0      0      0      0      0      0      0     0     0      1    \n",
       "103201 0      0      0      0      0      0      0     0     0      0    \n",
       "10338  0      0      0      0      0      0      0     1     0      0    "
      ]
     },
     "metadata": {},
     "output_type": "display_data"
    }
   ],
   "source": [
    "# 모든 행의 합이 0인 행 삭제하기 위해 위치 확인\n",
    "zeros <- as.numeric(which(rowSums(actorsMul) == 0))\n",
    "\n",
    "# 정방행렬을 유지하기 위해 열도 함께 삭제함\n",
    "actorsMul <- actorsMul[-zeros, -zeros]\n",
    "\n",
    "# 행렬의 차원수 확인\n",
    "dim(actorsMul)\n",
    "\n",
    "# 10행 10열만 미리보기\n",
    "actorsMul[1:10, 1:10]"
   ]
  },
  {
   "cell_type": "markdown",
   "metadata": {
    "slideshow": {
     "slide_type": "slide"
    }
   },
   "source": [
    "## 최단거리 구하기 (케빈 베이컨 놀이)"
   ]
  },
  {
   "cell_type": "code",
   "execution_count": 27,
   "metadata": {
    "slideshow": {
     "slide_type": "slide"
    }
   },
   "outputs": [],
   "source": [
    "# cell value가 1인 컬럼 번호 가져오기 \n",
    "ones <- list()\n",
    "for (i in 1:nrow(actorsMul)) {\n",
    "  ones[[i]] <- as.numeric(which(actorsMul[,i] == 1))\n",
    "}"
   ]
  },
  {
   "cell_type": "code",
   "execution_count": 28,
   "metadata": {
    "slideshow": {
     "slide_type": "slide"
    }
   },
   "outputs": [],
   "source": [
    "# 행이름과 열이름으로 데이터프레임 생성하기\n",
    "actorsDf <- data.frame()\n",
    "for (i in 1:length(ones)) {\n",
    "  coDf <- data.frame(from = rownames(actorsMul)[i],\n",
    "                     to = colnames(actorsMul)[ones[[i]]])\n",
    "  actorsDf <- rbind(actorsDf, coDf)\n",
    "}"
   ]
  },
  {
   "cell_type": "code",
   "execution_count": 29,
   "metadata": {
    "slideshow": {
     "slide_type": "slide"
    }
   },
   "outputs": [
    {
     "data": {
      "text/html": [
       "<ol class=list-inline>\n",
       "\t<li>41444</li>\n",
       "\t<li>2</li>\n",
       "</ol>\n"
      ],
      "text/latex": [
       "\\begin{enumerate*}\n",
       "\\item 41444\n",
       "\\item 2\n",
       "\\end{enumerate*}\n"
      ],
      "text/markdown": [
       "1. 41444\n",
       "2. 2\n",
       "\n",
       "\n"
      ],
      "text/plain": [
       "[1] 41444     2"
      ]
     },
     "metadata": {},
     "output_type": "display_data"
    }
   ],
   "source": [
    "# 중복 제거 후 차원 확인 \n",
    "actorsDf <- unique(actorsDf)\n",
    "dim(actorsDf)"
   ]
  },
  {
   "cell_type": "code",
   "execution_count": 30,
   "metadata": {
    "slideshow": {
     "slide_type": "slide"
    }
   },
   "outputs": [
    {
     "data": {
      "text/html": [
       "<ol class=list-inline>\n",
       "\t<li>0</li>\n",
       "\t<li>Inf</li>\n",
       "</ol>\n"
      ],
      "text/latex": [
       "\\begin{enumerate*}\n",
       "\\item 0\n",
       "\\item Inf\n",
       "\\end{enumerate*}\n"
      ],
      "text/markdown": [
       "1. 0\n",
       "2. Inf\n",
       "\n",
       "\n"
      ],
      "text/plain": [
       "[1]   0 Inf"
      ]
     },
     "metadata": {},
     "output_type": "display_data"
    }
   ],
   "source": [
    "# graph 객체를 생성\n",
    "graphObj <- graph.data.frame(actorsDf, directed = FALSE)\n",
    "\n",
    "# 각 노드(영화배우)별 최단경로 구하기\n",
    "shortPath <- shortest.paths(graphObj)\n",
    "\n",
    "# 범위 확인\n",
    "# 최대값이 Inf인 이유는 함께 출연하지 않은 배우들이 있기 때문 \n",
    "range(shortPath)"
   ]
  },
  {
   "cell_type": "code",
   "execution_count": 31,
   "metadata": {
    "slideshow": {
     "slide_type": "slide"
    }
   },
   "outputs": [
    {
     "data": {
      "text/html": [
       "<ol class=list-inline>\n",
       "\t<li>0</li>\n",
       "\t<li>99</li>\n",
       "</ol>\n"
      ],
      "text/latex": [
       "\\begin{enumerate*}\n",
       "\\item 0\n",
       "\\item 99\n",
       "\\end{enumerate*}\n"
      ],
      "text/markdown": [
       "1. 0\n",
       "2. 99\n",
       "\n",
       "\n"
      ],
      "text/plain": [
       "[1]  0 99"
      ]
     },
     "metadata": {},
     "output_type": "display_data"
    }
   ],
   "source": [
    "# 따라서 연결이 안되는 배우 간 경로는 99로 치환! \n",
    "# NA로 변경하면, 나중에 평균에서 제외되므로 오히려 무명의 배우가 가장 짧은 결과를 보이기 때문\n",
    "shortPath <- ifelse(shortPath == Inf, 99, shortPath)\n",
    "range(shortPath)"
   ]
  },
  {
   "cell_type": "code",
   "execution_count": 32,
   "metadata": {
    "slideshow": {
     "slide_type": "slide"
    }
   },
   "outputs": [
    {
     "data": {
      "text/plain": [
       " rowMeans(shortPath)\n",
       " Min.   : 2.431     \n",
       " 1st Qu.: 3.003     \n",
       " Median : 3.221     \n",
       " Mean   : 3.619     \n",
       " 3rd Qu.: 3.497     \n",
       " Max.   :98.897     "
      ]
     },
     "metadata": {},
     "output_type": "display_data"
    }
   ],
   "source": [
    "# 최단경로의 행 기준 평균 구하기\n",
    "pathMean <- as.data.frame(rowMeans(shortPath))\n",
    "\n",
    "# 최단경로의 평균 범위 확인\n",
    "summary(pathMean)\n",
    "\n",
    "# 배우코드 컬럼 생성 \n",
    "pathMean$actorCode <- rownames(shortPath)\n",
    "\n",
    "# 행번호는 초기화하고, 컬럼명 새로 지정\n",
    "rownames(pathMean) <- c()\n",
    "colnames(pathMean) <- c(\"pathMean\",\"actorCode\")"
   ]
  },
  {
   "cell_type": "code",
   "execution_count": 33,
   "metadata": {
    "slideshow": {
     "slide_type": "slide"
    }
   },
   "outputs": [],
   "source": [
    "# actors 객체에 병합한 후 정리하기 \n",
    "actors1 <- merge(x = actors, \n",
    "                 y = pathMean, \n",
    "                 by = \"actorCode\", \n",
    "                 all.x = TRUE)\n",
    "\n",
    "# NA인 행 제거 \n",
    "actors1 <- actors1[is.na(actors1$pathMean) == FALSE,]\n",
    "\n",
    "# 최단경로의 평균값이 작은 순서대로 오름차순 정렬\n",
    "actors1 <- actors1[order(actors1$pathMean, decreasing = FALSE),]"
   ]
  },
  {
   "cell_type": "code",
   "execution_count": 34,
   "metadata": {
    "slideshow": {
     "slide_type": "slide"
    }
   },
   "outputs": [
    {
     "data": {
      "text/html": [
       "<table>\n",
       "<thead><tr><th></th><th scope=col>actorCode</th><th scope=col>actorName</th><th scope=col>movieCnt</th><th scope=col>pathMean</th></tr></thead>\n",
       "<tbody>\n",
       "\t<tr><th scope=row>25803</th><td>8775    </td><td>이한위  </td><td> 99     </td><td>2.431260</td></tr>\n",
       "\t<tr><th scope=row>5264</th><td>1706    </td><td>김갑수  </td><td> 78     </td><td>2.451647</td></tr>\n",
       "\t<tr><th scope=row>24098</th><td>7137    </td><td>이순재  </td><td>207     </td><td>2.484056</td></tr>\n",
       "\t<tr><th scope=row>13835</th><td>37945   </td><td>박철민  </td><td> 83     </td><td>2.501307</td></tr>\n",
       "\t<tr><th scope=row>24247</th><td>7276    </td><td>이대연  </td><td> 76     </td><td>2.510716</td></tr>\n",
       "\t<tr><th scope=row>95</th><td>10320   </td><td>조희봉  </td><td> 64     </td><td>2.512807</td></tr>\n",
       "\t<tr><th scope=row>25248</th><td>8158    </td><td>안내상  </td><td> 82     </td><td>2.513853</td></tr>\n",
       "\t<tr><th scope=row>6581</th><td>2338    </td><td>안석환  </td><td> 75     </td><td>2.514898</td></tr>\n",
       "\t<tr><th scope=row>1566</th><td>12389   </td><td>강신일  </td><td> 60     </td><td>2.515944</td></tr>\n",
       "\t<tr><th scope=row>21217</th><td>5546    </td><td>이원종  </td><td> 65     </td><td>2.516466</td></tr>\n",
       "\t<tr><th scope=row>9312</th><td>3225    </td><td>김응수  </td><td> 65     </td><td>2.518035</td></tr>\n",
       "\t<tr><th scope=row>6860</th><td>2485    </td><td>성동일  </td><td> 70     </td><td>2.518557</td></tr>\n",
       "\t<tr><th scope=row>23380</th><td>6686    </td><td>이정길  </td><td>118     </td><td>2.518557</td></tr>\n",
       "\t<tr><th scope=row>1226</th><td>12015   </td><td>김해숙  </td><td> 92     </td><td>2.519080</td></tr>\n",
       "\t<tr><th scope=row>25244</th><td>8150    </td><td>김혜옥  </td><td> 82     </td><td>2.525353</td></tr>\n",
       "\t<tr><th scope=row>9261</th><td>3213    </td><td>박근형  </td><td>189     </td><td>2.537899</td></tr>\n",
       "\t<tr><th scope=row>11271</th><td>3535    </td><td>장현성  </td><td> 73     </td><td>2.542081</td></tr>\n",
       "\t<tr><th scope=row>6582</th><td>2339    </td><td>송옥숙  </td><td> 68     </td><td>2.545217</td></tr>\n",
       "\t<tr><th scope=row>24216</th><td>7238    </td><td>정동환  </td><td> 91     </td><td>2.552013</td></tr>\n",
       "\t<tr><th scope=row>6202</th><td>2119    </td><td>김영옥  </td><td> 98     </td><td>2.552535</td></tr>\n",
       "</tbody>\n",
       "</table>\n"
      ],
      "text/latex": [
       "\\begin{tabular}{r|llll}\n",
       "  & actorCode & actorName & movieCnt & pathMean\\\\\n",
       "\\hline\n",
       "\t25803 & 8775     & 이한위   &  99      & 2.431260\\\\\n",
       "\t5264 & 1706     & 김갑수   &  78      & 2.451647\\\\\n",
       "\t24098 & 7137     & 이순재   & 207      & 2.484056\\\\\n",
       "\t13835 & 37945    & 박철민   &  83      & 2.501307\\\\\n",
       "\t24247 & 7276     & 이대연   &  76      & 2.510716\\\\\n",
       "\t95 & 10320    & 조희봉   &  64      & 2.512807\\\\\n",
       "\t25248 & 8158     & 안내상   &  82      & 2.513853\\\\\n",
       "\t6581 & 2338     & 안석환   &  75      & 2.514898\\\\\n",
       "\t1566 & 12389    & 강신일   &  60      & 2.515944\\\\\n",
       "\t21217 & 5546     & 이원종   &  65      & 2.516466\\\\\n",
       "\t9312 & 3225     & 김응수   &  65      & 2.518035\\\\\n",
       "\t6860 & 2485     & 성동일   &  70      & 2.518557\\\\\n",
       "\t23380 & 6686     & 이정길   & 118      & 2.518557\\\\\n",
       "\t1226 & 12015    & 김해숙   &  92      & 2.519080\\\\\n",
       "\t25244 & 8150     & 김혜옥   &  82      & 2.525353\\\\\n",
       "\t9261 & 3213     & 박근형   & 189      & 2.537899\\\\\n",
       "\t11271 & 3535     & 장현성   &  73      & 2.542081\\\\\n",
       "\t6582 & 2339     & 송옥숙   &  68      & 2.545217\\\\\n",
       "\t24216 & 7238     & 정동환   &  91      & 2.552013\\\\\n",
       "\t6202 & 2119     & 김영옥   &  98      & 2.552535\\\\\n",
       "\\end{tabular}\n"
      ],
      "text/markdown": [
       "\n",
       "| <!--/--> | actorCode | actorName | movieCnt | pathMean | \n",
       "|---|---|---|---|---|---|---|---|---|---|---|---|---|---|---|---|---|---|---|---|\n",
       "| 25803 | 8775     | 이한위   |  99      | 2.431260 | \n",
       "| 5264 | 1706     | 김갑수   |  78      | 2.451647 | \n",
       "| 24098 | 7137     | 이순재   | 207      | 2.484056 | \n",
       "| 13835 | 37945    | 박철민   |  83      | 2.501307 | \n",
       "| 24247 | 7276     | 이대연   |  76      | 2.510716 | \n",
       "| 95 | 10320    | 조희봉   |  64      | 2.512807 | \n",
       "| 25248 | 8158     | 안내상   |  82      | 2.513853 | \n",
       "| 6581 | 2338     | 안석환   |  75      | 2.514898 | \n",
       "| 1566 | 12389    | 강신일   |  60      | 2.515944 | \n",
       "| 21217 | 5546     | 이원종   |  65      | 2.516466 | \n",
       "| 9312 | 3225     | 김응수   |  65      | 2.518035 | \n",
       "| 6860 | 2485     | 성동일   |  70      | 2.518557 | \n",
       "| 23380 | 6686     | 이정길   | 118      | 2.518557 | \n",
       "| 1226 | 12015    | 김해숙   |  92      | 2.519080 | \n",
       "| 25244 | 8150     | 김혜옥   |  82      | 2.525353 | \n",
       "| 9261 | 3213     | 박근형   | 189      | 2.537899 | \n",
       "| 11271 | 3535     | 장현성   |  73      | 2.542081 | \n",
       "| 6582 | 2339     | 송옥숙   |  68      | 2.545217 | \n",
       "| 24216 | 7238     | 정동환   |  91      | 2.552013 | \n",
       "| 6202 | 2119     | 김영옥   |  98      | 2.552535 | \n",
       "\n",
       "\n"
      ],
      "text/plain": [
       "      actorCode actorName movieCnt pathMean\n",
       "25803 8775      이한위     99      2.431260\n",
       "5264  1706      김갑수     78      2.451647\n",
       "24098 7137      이순재    207      2.484056\n",
       "13835 37945     박철민     83      2.501307\n",
       "24247 7276      이대연     76      2.510716\n",
       "95    10320     조희봉     64      2.512807\n",
       "25248 8158      안내상     82      2.513853\n",
       "6581  2338      안석환     75      2.514898\n",
       "1566  12389     강신일     60      2.515944\n",
       "21217 5546      이원종     65      2.516466\n",
       "9312  3225      김응수     65      2.518035\n",
       "6860  2485      성동일     70      2.518557\n",
       "23380 6686      이정길    118      2.518557\n",
       "1226  12015     김해숙     92      2.519080\n",
       "25244 8150      김혜옥     82      2.525353\n",
       "9261  3213      박근형    189      2.537899\n",
       "11271 3535      장현성     73      2.542081\n",
       "6582  2339      송옥숙     68      2.545217\n",
       "24216 7238      정동환     91      2.552013\n",
       "6202  2119      김영옥     98      2.552535"
      ]
     },
     "metadata": {},
     "output_type": "display_data"
    }
   ],
   "source": [
    "# 평균이 가장 낮은 상위 20명 확인\n",
    "head(actors1, 20L)"
   ]
  },
  {
   "cell_type": "markdown",
   "metadata": {
    "collapsed": true,
    "slideshow": {
     "slide_type": "slide"
    }
   },
   "source": [
    "# End of Document"
   ]
  }
 ],
 "metadata": {
  "celltoolbar": "Slideshow",
  "kernelspec": {
   "display_name": "R",
   "language": "R",
   "name": "ir"
  },
  "language_info": {
   "codemirror_mode": "r",
   "file_extension": ".r",
   "mimetype": "text/x-r-source",
   "name": "R",
   "pygments_lexer": "r",
   "version": "3.4.3"
  }
 },
 "nbformat": 4,
 "nbformat_minor": 2
}
